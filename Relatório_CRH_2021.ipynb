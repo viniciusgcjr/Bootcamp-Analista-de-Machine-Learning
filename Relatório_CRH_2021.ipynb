{
  "nbformat": 4,
  "nbformat_minor": 0,
  "metadata": {
    "colab": {
      "name": "Relatório CRH 2021",
      "provenance": [],
      "authorship_tag": "ABX9TyPLfvLGNPitZZFsJs0O2j5i",
      "include_colab_link": true
    },
    "kernelspec": {
      "name": "python3",
      "display_name": "Python 3"
    },
    "language_info": {
      "name": "python"
    }
  },
  "cells": [
    {
      "cell_type": "markdown",
      "metadata": {
        "id": "view-in-github",
        "colab_type": "text"
      },
      "source": [
        "<a href=\"https://colab.research.google.com/github/viniciusgcjr/Bootcamp-Analista-de-Machine-Learning/blob/master/Relat%C3%B3rio_CRH_2021.ipynb\" target=\"_parent\"><img src=\"https://colab.research.google.com/assets/colab-badge.svg\" alt=\"Open In Colab\"/></a>"
      ]
    },
    {
      "cell_type": "markdown",
      "metadata": {
        "id": "1zwIT2TYIZyW"
      },
      "source": [
        "# Relatório da disciplina de Clima e RH"
      ]
    },
    {
      "cell_type": "markdown",
      "metadata": {
        "id": "p8lyFvktIfUs"
      },
      "source": [
        "# Base de dados"
      ]
    },
    {
      "cell_type": "markdown",
      "metadata": {
        "id": "GY0aH8tMIpqo"
      },
      "source": [
        "## ERA5"
      ]
    },
    {
      "cell_type": "markdown",
      "metadata": {
        "id": "ATDxvUmmItCB"
      },
      "source": [
        "Primeiramente instalamos a interface de programaçao de aplicativos (API) do Climate Data Store.  \n",
        "\n",
        "O manual da API pode ser visitado em: https://cds.climate.copernicus.eu/api-how-to"
      ]
    },
    {
      "cell_type": "code",
      "metadata": {
        "colab": {
          "base_uri": "https://localhost:8080/"
        },
        "id": "SStCh2zhGsAL",
        "outputId": "bb427fd9-3cec-4d0c-9e77-3533a0d58013"
      },
      "source": [
        "!pip install cdsapi"
      ],
      "execution_count": 1,
      "outputs": [
        {
          "output_type": "stream",
          "text": [
            "Requirement already satisfied: cdsapi in /usr/local/lib/python3.7/dist-packages (0.5.1)\n",
            "Requirement already satisfied: requests>=2.5.0 in /usr/local/lib/python3.7/dist-packages (from cdsapi) (2.23.0)\n",
            "Requirement already satisfied: tqdm in /usr/local/lib/python3.7/dist-packages (from cdsapi) (4.41.1)\n",
            "Requirement already satisfied: idna<3,>=2.5 in /usr/local/lib/python3.7/dist-packages (from requests>=2.5.0->cdsapi) (2.10)\n",
            "Requirement already satisfied: certifi>=2017.4.17 in /usr/local/lib/python3.7/dist-packages (from requests>=2.5.0->cdsapi) (2021.5.30)\n",
            "Requirement already satisfied: urllib3!=1.25.0,!=1.25.1,<1.26,>=1.21.1 in /usr/local/lib/python3.7/dist-packages (from requests>=2.5.0->cdsapi) (1.24.3)\n",
            "Requirement already satisfied: chardet<4,>=3.0.2 in /usr/local/lib/python3.7/dist-packages (from requests>=2.5.0->cdsapi) (3.0.4)\n"
          ],
          "name": "stdout"
        }
      ]
    },
    {
      "cell_type": "markdown",
      "metadata": {
        "id": "CsmFSxf_JWzV"
      },
      "source": [
        "Após o cadastro na plataforma cada usuário recebe uma ID e chave para utilizar a API.  "
      ]
    },
    {
      "cell_type": "code",
      "metadata": {
        "id": "4R2ELsuRRCe8"
      },
      "source": [
        "#importar getpass para solicitar a chave do usuário\n",
        "import getpass"
      ],
      "execution_count": 2,
      "outputs": []
    },
    {
      "cell_type": "code",
      "metadata": {
        "id": "sMKi1OakKMAd"
      },
      "source": [
        "url = 'url: https://cds.climate.copernicus.eu/api/v2'\n",
        "\n",
        "#UID_KEY = getpass.getpass()\n",
        "#key = 'key: ' + UID_KEY\n",
        "\n",
        "key = 'key: 8944:a26b60a7-40d7-461c-a10c-97426074abbf'\n"
      ],
      "execution_count": 3,
      "outputs": []
    },
    {
      "cell_type": "markdown",
      "metadata": {
        "id": "kCucf4gYKOU8"
      },
      "source": [
        "Para se utilizar a api se faz necessário criar um arquivo com as credenciais acima e guardalas no diretório root do computador. Como o google colab roda em um computador linux, criei este arquivo da seguinte maneira:"
      ]
    },
    {
      "cell_type": "code",
      "metadata": {
        "id": "svBQc2OIGgVT"
      },
      "source": [
        "with open('/root/.cdsapirc', 'w') as f:\n",
        "    f.write('\\n'.join([url, key]))"
      ],
      "execution_count": 4,
      "outputs": []
    },
    {
      "cell_type": "markdown",
      "metadata": {
        "id": "AXNJpDTmKuRH"
      },
      "source": [
        "Importa-se então a api e deve-se executa-la para testar seu funcionamento."
      ]
    },
    {
      "cell_type": "code",
      "metadata": {
        "colab": {
          "base_uri": "https://localhost:8080/"
        },
        "id": "YMF1DbEFGlIS",
        "outputId": "0c96e186-72a0-4294-d491-5c4ffdf302b1"
      },
      "source": [
        "import cdsapi\n",
        "cdsapi.Client()"
      ],
      "execution_count": 5,
      "outputs": [
        {
          "output_type": "execute_result",
          "data": {
            "text/plain": [
              "<cdsapi.api.Client at 0x7f67d912e290>"
            ]
          },
          "metadata": {
            "tags": []
          },
          "execution_count": 5
        }
      ]
    },
    {
      "cell_type": "markdown",
      "metadata": {
        "id": "gir50-AwLG2U"
      },
      "source": [
        "Os dados serão persistidos no google drive. A montagem desta nuvem no ambiente colab é feita da seguinte maneira:"
      ]
    },
    {
      "cell_type": "code",
      "metadata": {
        "colab": {
          "base_uri": "https://localhost:8080/"
        },
        "id": "gJh3PwoVGoVP",
        "outputId": "b8ef55d9-6c43-4f95-c6e0-7752378e2553"
      },
      "source": [
        "from google.colab import drive\n",
        "drive.mount('/content/drive')"
      ],
      "execution_count": 6,
      "outputs": [
        {
          "output_type": "stream",
          "text": [
            "Drive already mounted at /content/drive; to attempt to forcibly remount, call drive.mount(\"/content/drive\", force_remount=True).\n"
          ],
          "name": "stdout"
        }
      ]
    },
    {
      "cell_type": "markdown",
      "metadata": {
        "id": "4VHdzqVPND50"
      },
      "source": [
        "#### Requisição de dados\n",
        "\n",
        "Colocar imagem do site com o botão da requisão da API!!!!!\n",
        "\n",
        "A biblioteca xarray será utilizada uma vez que ela já integra as bibliotecas pandas e netcdf4, além de potencializar as operações que seriam possíveis no numpy."
      ]
    },
    {
      "cell_type": "code",
      "metadata": {
        "colab": {
          "base_uri": "https://localhost:8080/"
        },
        "id": "PNjPH8YkG4kC",
        "outputId": "fca38ee2-e82b-4396-dab8-d59346938d0e"
      },
      "source": [
        "import xarray as xr #biblioteca para processar os dados \n",
        "from urllib.request import urlopen \n",
        "\n",
        "#leitura do dataset \n",
        "c = cdsapi.Client()\n",
        "\n",
        "# flag para o download data\n",
        "download_flag = False\n",
        "\n",
        "dataset = 'reanalysis-era5-single-levels-monthly-means'\n",
        "\n",
        "# parametros da api \n",
        "params = {\n",
        "    'format': 'netcdf',\n",
        "    'variable': ['total_precipitation', '2m_temperature'],\n",
        "    'product_type': 'monthly_averaged_reanalysis',\n",
        "    'expver': '1',\n",
        "    'year': [\n",
        "            '1981', '1982', '1983','1984', '1985', '1986','1987', '1988', '1989',\n",
        "            '1990', '1991', '1992','1993', '1994', '1995','1996', '1997', '1998',\n",
        "            '1999', '2000', '2001','2002', '2003', '2004','2005', '2006', '2007',\n",
        "            '2008', '2009', '2010','2011', '2012', '2013','2014', '2015', '2016',\n",
        "            '2017', '2018', '2019','2020'],\n",
        "    'month':['01', '02', '03', '04', '05', '06', '07', '08', '09','10', '11', '12'],\n",
        "    'time': '00:00',\n",
        "    'area': [-7.15, -41.5, -9.6, -35],\n",
        "    }\n",
        "\n",
        "#Escolha de diretório no google drive\n",
        "PernambucoERA5 = './drive/MyDrive/CRH/PernambucoERA5.nc'\n",
        "\n",
        "#Arquivo gerado pelos paramêtros especificados\n",
        "fl = c.retrieve(dataset, params)\n",
        "\n",
        "#Caso a flag esteja como True o download do arquivo em netcdf será realizado e \n",
        "#persistido no diretório especificado no google drive\n",
        "if download_flag:\n",
        "  fl.download(PernambucoERA5)\n",
        "\n",
        "#leitura dos dados \n",
        "with urlopen(fl.location) as f:\n",
        "    ds = xr.open_dataset(f.read())\n",
        "    print(ds)"
      ],
      "execution_count": 7,
      "outputs": [
        {
          "output_type": "stream",
          "text": [
            "2021-07-16 18:19:41,939 INFO Welcome to the CDS\n",
            "2021-07-16 18:19:41,941 INFO Sending request to https://cds.climate.copernicus.eu/api/v2/resources/reanalysis-era5-single-levels-monthly-means\n",
            "2021-07-16 18:19:42,126 INFO Request is completed\n"
          ],
          "name": "stderr"
        },
        {
          "output_type": "stream",
          "text": [
            "<xarray.Dataset>\n",
            "Dimensions:    (latitude: 10, longitude: 27, time: 480)\n",
            "Coordinates:\n",
            "  * longitude  (longitude) float32 -41.5 -41.25 -41.0 ... -35.5 -35.25 -35.0\n",
            "  * latitude   (latitude) float32 -7.35 -7.6 -7.85 -8.1 ... -9.1 -9.35 -9.6\n",
            "  * time       (time) datetime64[ns] 1981-01-01 1981-02-01 ... 2020-12-01\n",
            "Data variables:\n",
            "    tp         (time, latitude, longitude) float32 ...\n",
            "    t2m        (time, latitude, longitude) float32 ...\n",
            "Attributes:\n",
            "    Conventions:  CF-1.6\n",
            "    history:      2021-07-13 22:36:50 GMT by grib_to_netcdf-2.20.0: /opt/ecmw...\n"
          ],
          "name": "stdout"
        }
      ]
    },
    {
      "cell_type": "markdown",
      "metadata": {
        "id": "8ORpd_J6LQEr"
      },
      "source": [
        "Variáveis recuperadas  \n",
        "\n",
        "\n",
        "    tp         = total precipitation  \n",
        "    t2m        = temperatura do ar (2m) "
      ]
    },
    {
      "cell_type": "markdown",
      "metadata": {
        "id": "0TOKyA0-Kwu5"
      },
      "source": [
        "##### Mapa de temperatura do ar (2m) em 01/12/2020"
      ]
    },
    {
      "cell_type": "code",
      "metadata": {
        "colab": {
          "base_uri": "https://localhost:8080/",
          "height": 313
        },
        "id": "aOqg0tvIFCov",
        "outputId": "8270d161-f27f-4d94-a75e-4100ecf86c20"
      },
      "source": [
        "temperatura = ds.t2m - 273.15 #convertendo de k para ºC\n",
        "temperatura[479].plot()"
      ],
      "execution_count": 8,
      "outputs": [
        {
          "output_type": "execute_result",
          "data": {
            "text/plain": [
              "<matplotlib.collections.QuadMesh at 0x7f760c3c0c90>"
            ]
          },
          "metadata": {
            "tags": []
          },
          "execution_count": 8
        },
        {
          "output_type": "display_data",
          "data": {
            "image/png": "[encoded data removed]",
            "text/plain": [
              "<Figure size 432x288 with 2 Axes>"
            ]
          },
          "metadata": {
            "tags": [],
            "needs_background": "light"
          }
        }
      ]
    },
    {
      "cell_type": "markdown",
      "metadata": {
        "id": "bkjs57ZGOAE7"
      },
      "source": [
        "#### Dataframe\n",
        "\n",
        "A biblioteca pandas será utilizada para manipulação dos dados, sendo uma biblioteca elegante e poderosa para este fim. "
      ]
    },
    {
      "cell_type": "code",
      "metadata": {
        "colab": {
          "base_uri": "https://localhost:8080/",
          "height": 473
        },
        "id": "3fDZOlEQHRej",
        "outputId": "137838e1-ae94-4c53-d823-09e40ce8f6dd"
      },
      "source": [
        "#Transformação dos dados em dataframe\n",
        "df = ds.to_dataframe()\n",
        "\n",
        "#Conversão de m para mm\n",
        "df.loc[:,'tp'] = df.loc[:,'tp']*1000\n",
        "\n",
        "#Conversão de K para ºC\n",
        "df.loc[:,'t2m'] = df.loc[:,'t2m'] - 273.15\n",
        "\n",
        "df"
      ],
      "execution_count": 9,
      "outputs": [
        {
          "output_type": "stream",
          "text": [
            "2021-07-16 18:19:44,181 INFO NumExpr defaulting to 2 threads.\n"
          ],
          "name": "stderr"
        },
        {
          "output_type": "execute_result",
          "data": {
            "text/html": [
              "<div>\n",
              "<style scoped>\n",
              "    .dataframe tbody tr th:only-of-type {\n",
              "        vertical-align: middle;\n",
              "    }\n",
              "\n",
              "    .dataframe tbody tr th {\n",
              "        vertical-align: top;\n",
              "    }\n",
              "\n",
              "    .dataframe thead th {\n",
              "        text-align: right;\n",
              "    }\n",
              "</style>\n",
              "<table border=\"1\" class=\"dataframe\">\n",
              "  <thead>\n",
              "    <tr style=\"text-align: right;\">\n",
              "      <th></th>\n",
              "      <th></th>\n",
              "      <th></th>\n",
              "      <th>tp</th>\n",
              "      <th>t2m</th>\n",
              "    </tr>\n",
              "    <tr>\n",
              "      <th>latitude</th>\n",
              "      <th>longitude</th>\n",
              "      <th>time</th>\n",
              "      <th></th>\n",
              "      <th></th>\n",
              "    </tr>\n",
              "  </thead>\n",
              "  <tbody>\n",
              "    <tr>\n",
              "      <th rowspan=\"5\" valign=\"top\">-7.35</th>\n",
              "      <th rowspan=\"5\" valign=\"top\">-41.5</th>\n",
              "      <th>1981-01-01</th>\n",
              "      <td>4.351404</td>\n",
              "      <td>26.504205</td>\n",
              "    </tr>\n",
              "    <tr>\n",
              "      <th>1981-02-01</th>\n",
              "      <td>0.993128</td>\n",
              "      <td>28.256006</td>\n",
              "    </tr>\n",
              "    <tr>\n",
              "      <th>1981-03-01</th>\n",
              "      <td>10.961049</td>\n",
              "      <td>27.177423</td>\n",
              "    </tr>\n",
              "    <tr>\n",
              "      <th>1981-04-01</th>\n",
              "      <td>1.676493</td>\n",
              "      <td>26.214044</td>\n",
              "    </tr>\n",
              "    <tr>\n",
              "      <th>1981-05-01</th>\n",
              "      <td>0.006800</td>\n",
              "      <td>27.354944</td>\n",
              "    </tr>\n",
              "    <tr>\n",
              "      <th>...</th>\n",
              "      <th>...</th>\n",
              "      <th>...</th>\n",
              "      <td>...</td>\n",
              "      <td>...</td>\n",
              "    </tr>\n",
              "    <tr>\n",
              "      <th rowspan=\"5\" valign=\"top\">-9.60</th>\n",
              "      <th rowspan=\"5\" valign=\"top\">-35.0</th>\n",
              "      <th>2020-08-01</th>\n",
              "      <td>1.073591</td>\n",
              "      <td>25.054163</td>\n",
              "    </tr>\n",
              "    <tr>\n",
              "      <th>2020-09-01</th>\n",
              "      <td>1.157453</td>\n",
              "      <td>25.116876</td>\n",
              "    </tr>\n",
              "    <tr>\n",
              "      <th>2020-10-01</th>\n",
              "      <td>0.602148</td>\n",
              "      <td>25.923242</td>\n",
              "    </tr>\n",
              "    <tr>\n",
              "      <th>2020-11-01</th>\n",
              "      <td>1.075857</td>\n",
              "      <td>26.252618</td>\n",
              "    </tr>\n",
              "    <tr>\n",
              "      <th>2020-12-01</th>\n",
              "      <td>1.106078</td>\n",
              "      <td>26.365930</td>\n",
              "    </tr>\n",
              "  </tbody>\n",
              "</table>\n",
              "<p>129600 rows × 2 columns</p>\n",
              "</div>"
            ],
            "text/plain": [
              "                                      tp        t2m\n",
              "latitude longitude time                            \n",
              "-7.35    -41.5     1981-01-01   4.351404  26.504205\n",
              "                   1981-02-01   0.993128  28.256006\n",
              "                   1981-03-01  10.961049  27.177423\n",
              "                   1981-04-01   1.676493  26.214044\n",
              "                   1981-05-01   0.006800  27.354944\n",
              "...                                  ...        ...\n",
              "-9.60    -35.0     2020-08-01   1.073591  25.054163\n",
              "                   2020-09-01   1.157453  25.116876\n",
              "                   2020-10-01   0.602148  25.923242\n",
              "                   2020-11-01   1.075857  26.252618\n",
              "                   2020-12-01   1.106078  26.365930\n",
              "\n",
              "[129600 rows x 2 columns]"
            ]
          },
          "metadata": {
            "tags": []
          },
          "execution_count": 9
        }
      ]
    },
    {
      "cell_type": "markdown",
      "metadata": {
        "id": "bONgKxeXNJix"
      },
      "source": [
        "##### Descrição básica dos dados"
      ]
    },
    {
      "cell_type": "code",
      "metadata": {
        "colab": {
          "base_uri": "https://localhost:8080/",
          "height": 300
        },
        "id": "SkxqAma1NCN4",
        "outputId": "cf71ca09-393e-48a2-e6c3-b9836723cf92"
      },
      "source": [
        "df.describe()"
      ],
      "execution_count": 10,
      "outputs": [
        {
          "output_type": "execute_result",
          "data": {
            "text/html": [
              "<div>\n",
              "<style scoped>\n",
              "    .dataframe tbody tr th:only-of-type {\n",
              "        vertical-align: middle;\n",
              "    }\n",
              "\n",
              "    .dataframe tbody tr th {\n",
              "        vertical-align: top;\n",
              "    }\n",
              "\n",
              "    .dataframe thead th {\n",
              "        text-align: right;\n",
              "    }\n",
              "</style>\n",
              "<table border=\"1\" class=\"dataframe\">\n",
              "  <thead>\n",
              "    <tr style=\"text-align: right;\">\n",
              "      <th></th>\n",
              "      <th>tp</th>\n",
              "      <th>t2m</th>\n",
              "    </tr>\n",
              "  </thead>\n",
              "  <tbody>\n",
              "    <tr>\n",
              "      <th>count</th>\n",
              "      <td>129600.000000</td>\n",
              "      <td>129600.000000</td>\n",
              "    </tr>\n",
              "    <tr>\n",
              "      <th>mean</th>\n",
              "      <td>1.658527</td>\n",
              "      <td>25.697175</td>\n",
              "    </tr>\n",
              "    <tr>\n",
              "      <th>std</th>\n",
              "      <td>2.050772</td>\n",
              "      <td>1.983663</td>\n",
              "    </tr>\n",
              "    <tr>\n",
              "      <th>min</th>\n",
              "      <td>0.000000</td>\n",
              "      <td>19.296411</td>\n",
              "    </tr>\n",
              "    <tr>\n",
              "      <th>25%</th>\n",
              "      <td>0.287475</td>\n",
              "      <td>24.311792</td>\n",
              "    </tr>\n",
              "    <tr>\n",
              "      <th>50%</th>\n",
              "      <td>0.930420</td>\n",
              "      <td>25.708582</td>\n",
              "    </tr>\n",
              "    <tr>\n",
              "      <th>75%</th>\n",
              "      <td>2.249176</td>\n",
              "      <td>27.066003</td>\n",
              "    </tr>\n",
              "    <tr>\n",
              "      <th>max</th>\n",
              "      <td>24.755669</td>\n",
              "      <td>32.821436</td>\n",
              "    </tr>\n",
              "  </tbody>\n",
              "</table>\n",
              "</div>"
            ],
            "text/plain": [
              "                  tp            t2m\n",
              "count  129600.000000  129600.000000\n",
              "mean        1.658527      25.697175\n",
              "std         2.050772       1.983663\n",
              "min         0.000000      19.296411\n",
              "25%         0.287475      24.311792\n",
              "50%         0.930420      25.708582\n",
              "75%         2.249176      27.066003\n",
              "max        24.755669      32.821436"
            ]
          },
          "metadata": {
            "tags": []
          },
          "execution_count": 10
        }
      ]
    },
    {
      "cell_type": "markdown",
      "metadata": {
        "id": "Em3J3r03Ocpm"
      },
      "source": [
        "#### Ponto mais próximo ao posto meteorológico\n",
        "\n",
        "É necessário criar uma função para determinar qual o ponto de grade no arquivo netcdf que mais se aproxima da estação meteorológica que será utilizada."
      ]
    },
    {
      "cell_type": "code",
      "metadata": {
        "id": "HqBp4rY7N7Sw"
      },
      "source": [
        "import numpy as np\n",
        "\n",
        "def geo_idx(dd, dd_array):\n",
        "   \"\"\"\n",
        "     search for nearest decimal degree in an array of decimal degrees and return the index.\n",
        "     np.argmin returns the indices of minium value along an axis.\n",
        "     so subtract dd from all values in dd_array, take absolute value and find index of minium.\n",
        "    \"\"\"\n",
        "   \n",
        "   geo_idx = (np.abs(dd_array - dd)).argmin()\n",
        "   return geo_idx\n"
      ],
      "execution_count": 16,
      "outputs": []
    },
    {
      "cell_type": "markdown",
      "metadata": {
        "id": "yll5OpvNPzul"
      },
      "source": [
        "Visualização do array de latitude e longitude do ERA5 "
      ]
    },
    {
      "cell_type": "code",
      "metadata": {
        "colab": {
          "base_uri": "https://localhost:8080/"
        },
        "id": "klnbnKYNPxep",
        "outputId": "386121e8-80a4-4744-fe39-00c1daf51483"
      },
      "source": [
        "print(ds.variables['latitude'][:])\n",
        "print(ds.variables['longitude'][:])"
      ],
      "execution_count": 12,
      "outputs": [
        {
          "output_type": "stream",
          "text": [
            "<xarray.IndexVariable 'latitude' (latitude: 10)>\n",
            "array([-7.35, -7.6 , -7.85, -8.1 , -8.35, -8.6 , -8.85, -9.1 , -9.35, -9.6 ],\n",
            "      dtype=float32)\n",
            "Attributes:\n",
            "    units:      degrees_north\n",
            "    long_name:  latitude\n",
            "<xarray.IndexVariable 'longitude' (longitude: 27)>\n",
            "array([-41.5 , -41.25, -41.  , -40.75, -40.5 , -40.25, -40.  , -39.75, -39.5 ,\n",
            "       -39.25, -39.  , -38.75, -38.5 , -38.25, -38.  , -37.75, -37.5 , -37.25,\n",
            "       -37.  , -36.75, -36.5 , -36.25, -36.  , -35.75, -35.5 , -35.25, -35.  ],\n",
            "      dtype=float32)\n",
            "Attributes:\n",
            "    units:      degrees_east\n",
            "    long_name:  longitude\n"
          ],
          "name": "stdout"
        }
      ]
    },
    {
      "cell_type": "markdown",
      "metadata": {
        "id": "PrJbiGemQr6c"
      },
      "source": [
        "A estação escolhida para a comparação está localizada em Petrolina e pertece ao Instituto Nacional de Meteorologia (INMET).\n",
        "\n",
        "As informações da estação podem ser visualizadas no site: https://mapas.inmet.gov.br/"
      ]
    },
    {
      "cell_type": "code",
      "metadata": {
        "id": "NcbhU6N6P0ph"
      },
      "source": [
        "#Estação 82983\n",
        "inmet_lat = -9.39, \n",
        "inmet_lon = -40.52"
      ],
      "execution_count": 17,
      "outputs": []
    },
    {
      "cell_type": "code",
      "metadata": {
        "colab": {
          "base_uri": "https://localhost:8080/"
        },
        "id": "bcvW6u20RQdx",
        "outputId": "3eeca348-408e-464e-9832-ea7a807c1861"
      },
      "source": [
        "lats_ERA5 = ds.variables['latitude'][:]\n",
        "lons_ERA5 = ds.variables['longitude'][:]\n",
        "\n",
        "lat_idx = geo_idx(inmet_lat, lats_ERA5)\n",
        "lon_idx = geo_idx(inmet_lon, lons_ERA5)"
      ],
      "execution_count": 14,
      "outputs": [
        {
          "output_type": "stream",
          "text": [
            "/usr/local/lib/python3.7/dist-packages/ipykernel_launcher.py:10: DeprecationWarning: Behaviour of argmin/argmax with neither dim nor axis argument will change to return a dict of indices of each dimension. To get a single, flat index, please use np.argmin(da.data) or np.argmax(da.data) instead of da.argmin() or da.argmax().\n",
            "  # Remove the CWD from sys.path while we load stuff.\n",
            "/usr/local/lib/python3.7/dist-packages/ipykernel_launcher.py:10: DeprecationWarning: Behaviour of argmin/argmax with neither dim nor axis argument will change to return a dict of indices of each dimension. To get a single, flat index, please use np.argmin(da.data) or np.argmax(da.data) instead of da.argmin() or da.argmax().\n",
            "  # Remove the CWD from sys.path while we load stuff.\n"
          ],
          "name": "stderr"
        }
      ]
    },
    {
      "cell_type": "markdown",
      "metadata": {
        "id": "v5qc1547Mm89"
      },
      "source": [
        "Índices do array que correspondem o ponto da estação"
      ]
    },
    {
      "cell_type": "code",
      "metadata": {
        "colab": {
          "base_uri": "https://localhost:8080/"
        },
        "id": "co7w5G1PJoox",
        "outputId": "4ac6d8a2-f3be-4ae8-d92a-66cb20c28965"
      },
      "source": [
        "print(lat_idx.values)\n",
        "print(lon_idx.values)"
      ],
      "execution_count": 15,
      "outputs": [
        {
          "output_type": "stream",
          "text": [
            "8\n",
            "4\n"
          ],
          "name": "stdout"
        }
      ]
    },
    {
      "cell_type": "markdown",
      "metadata": {
        "id": "D1cPQw_PKaXG"
      },
      "source": [
        "#### Série de precipitação \n",
        "\n",
        "Série de precipitação para o ponto de grade que compreende a estação do INMET "
      ]
    },
    {
      "cell_type": "code",
      "metadata": {
        "colab": {
          "base_uri": "https://localhost:8080/",
          "height": 324
        },
        "id": "fs59lw1WDHw7",
        "outputId": "83e87c48-6a0e-47c5-8518-55fc0a836990"
      },
      "source": [
        "tp = ds.tp * 1000\n",
        "tp.isel(latitude=8, longitude=4).plot()"
      ],
      "execution_count": 16,
      "outputs": [
        {
          "output_type": "execute_result",
          "data": {
            "text/plain": [
              "[<matplotlib.lines.Line2D at 0x7f760be68890>]"
            ]
          },
          "metadata": {
            "tags": []
          },
          "execution_count": 16
        },
        {
          "output_type": "display_data",
          "data": {
            "image/png": "[encoded data removed]",
            "text/plain": [
              "<Figure size 432x288 with 1 Axes>"
            ]
          },
          "metadata": {
            "tags": [],
            "needs_background": "light"
          }
        }
      ]
    },
    {
      "cell_type": "markdown",
      "metadata": {
        "id": "dHOLfM6BNX7H"
      },
      "source": [
        "#### Tabela filtrada "
      ]
    },
    {
      "cell_type": "markdown",
      "metadata": {
        "id": "Ph1QWxbrYfb3"
      },
      "source": [
        "Como os dados do era são do tipo float, não é possível comparar diretamente o \n",
        "valor de latitude e longitude, logo utiliza-se um delta para a query que \n",
        "retornará os dados do ponto de grade mais próximos das coordenadas da estação que foram passadas acima.\n",
        "\n",
        "O delta escolhido foi de 0.1, visto que a grade tem espacamento de 0,25."
      ]
    },
    {
      "cell_type": "code",
      "metadata": {
        "colab": {
          "base_uri": "https://localhost:8080/",
          "height": 455
        },
        "id": "cnLiyaiTR2tW",
        "outputId": "9200bf8f-8a4a-42b2-bfa9-d84af8f09e4a"
      },
      "source": [
        "delta = 0.1\n",
        "latitude1 = str(lats_ERA5[lat_idx].values + delta )\n",
        "latitude2 = str(lats_ERA5[lat_idx].values - delta)\n",
        "longitude1 = str(lons_ERA5[lon_idx].values + delta)\n",
        "longitude2 = str(lons_ERA5[lon_idx].values - delta)\n",
        "\n",
        "tabelaEra5 = (df.query('latitude < ' + latitude1 + ' and latitude > ' + latitude2 + ' and longitude < ' + longitude1 + ' and longitude > ' + longitude2))\n",
        "tabelaEra5"
      ],
      "execution_count": 17,
      "outputs": [
        {
          "output_type": "execute_result",
          "data": {
            "text/html": [
              "<div>\n",
              "<style scoped>\n",
              "    .dataframe tbody tr th:only-of-type {\n",
              "        vertical-align: middle;\n",
              "    }\n",
              "\n",
              "    .dataframe tbody tr th {\n",
              "        vertical-align: top;\n",
              "    }\n",
              "\n",
              "    .dataframe thead th {\n",
              "        text-align: right;\n",
              "    }\n",
              "</style>\n",
              "<table border=\"1\" class=\"dataframe\">\n",
              "  <thead>\n",
              "    <tr style=\"text-align: right;\">\n",
              "      <th></th>\n",
              "      <th></th>\n",
              "      <th></th>\n",
              "      <th>tp</th>\n",
              "      <th>t2m</th>\n",
              "    </tr>\n",
              "    <tr>\n",
              "      <th>latitude</th>\n",
              "      <th>longitude</th>\n",
              "      <th>time</th>\n",
              "      <th></th>\n",
              "      <th></th>\n",
              "    </tr>\n",
              "  </thead>\n",
              "  <tbody>\n",
              "    <tr>\n",
              "      <th rowspan=\"11\" valign=\"top\">-9.35</th>\n",
              "      <th rowspan=\"11\" valign=\"top\">-40.5</th>\n",
              "      <th>1981-01-01</th>\n",
              "      <td>2.243132</td>\n",
              "      <td>26.472437</td>\n",
              "    </tr>\n",
              "    <tr>\n",
              "      <th>1981-02-01</th>\n",
              "      <td>0.528485</td>\n",
              "      <td>27.565454</td>\n",
              "    </tr>\n",
              "    <tr>\n",
              "      <th>1981-03-01</th>\n",
              "      <td>9.087366</td>\n",
              "      <td>25.965326</td>\n",
              "    </tr>\n",
              "    <tr>\n",
              "      <th>1981-04-01</th>\n",
              "      <td>1.852529</td>\n",
              "      <td>24.651483</td>\n",
              "    </tr>\n",
              "    <tr>\n",
              "      <th>1981-05-01</th>\n",
              "      <td>0.150726</td>\n",
              "      <td>24.467798</td>\n",
              "    </tr>\n",
              "    <tr>\n",
              "      <th>...</th>\n",
              "      <td>...</td>\n",
              "      <td>...</td>\n",
              "    </tr>\n",
              "    <tr>\n",
              "      <th>2020-08-01</th>\n",
              "      <td>0.163947</td>\n",
              "      <td>24.956934</td>\n",
              "    </tr>\n",
              "    <tr>\n",
              "      <th>2020-09-01</th>\n",
              "      <td>0.100862</td>\n",
              "      <td>26.793573</td>\n",
              "    </tr>\n",
              "    <tr>\n",
              "      <th>2020-10-01</th>\n",
              "      <td>0.338850</td>\n",
              "      <td>29.294122</td>\n",
              "    </tr>\n",
              "    <tr>\n",
              "      <th>2020-11-01</th>\n",
              "      <td>1.808710</td>\n",
              "      <td>27.216028</td>\n",
              "    </tr>\n",
              "    <tr>\n",
              "      <th>2020-12-01</th>\n",
              "      <td>0.200968</td>\n",
              "      <td>28.621088</td>\n",
              "    </tr>\n",
              "  </tbody>\n",
              "</table>\n",
              "<p>480 rows × 2 columns</p>\n",
              "</div>"
            ],
            "text/plain": [
              "                                     tp        t2m\n",
              "latitude longitude time                           \n",
              "-9.35    -40.5     1981-01-01  2.243132  26.472437\n",
              "                   1981-02-01  0.528485  27.565454\n",
              "                   1981-03-01  9.087366  25.965326\n",
              "                   1981-04-01  1.852529  24.651483\n",
              "                   1981-05-01  0.150726  24.467798\n",
              "...                                 ...        ...\n",
              "                   2020-08-01  0.163947  24.956934\n",
              "                   2020-09-01  0.100862  26.793573\n",
              "                   2020-10-01  0.338850  29.294122\n",
              "                   2020-11-01  1.808710  27.216028\n",
              "                   2020-12-01  0.200968  28.621088\n",
              "\n",
              "[480 rows x 2 columns]"
            ]
          },
          "metadata": {
            "tags": []
          },
          "execution_count": 17
        }
      ]
    },
    {
      "cell_type": "code",
      "metadata": {
        "colab": {
          "base_uri": "https://localhost:8080/",
          "height": 424
        },
        "id": "Tqk8vfuPo4ht",
        "outputId": "3a2b9c86-02d9-4ab6-b709-c4248a919760"
      },
      "source": [
        "dftabela=tabelaEra5.reset_index()\n",
        "dftabela=dftabela.drop(['latitude'],axis=1)\n",
        "dftabela=dftabela.drop(['longitude'],axis=1)\n",
        "#dftabela.set_index('time', inplace=True)\n",
        "dftabela"
      ],
      "execution_count": 18,
      "outputs": [
        {
          "output_type": "execute_result",
          "data": {
            "text/html": [
              "<div>\n",
              "<style scoped>\n",
              "    .dataframe tbody tr th:only-of-type {\n",
              "        vertical-align: middle;\n",
              "    }\n",
              "\n",
              "    .dataframe tbody tr th {\n",
              "        vertical-align: top;\n",
              "    }\n",
              "\n",
              "    .dataframe thead th {\n",
              "        text-align: right;\n",
              "    }\n",
              "</style>\n",
              "<table border=\"1\" class=\"dataframe\">\n",
              "  <thead>\n",
              "    <tr style=\"text-align: right;\">\n",
              "      <th></th>\n",
              "      <th>time</th>\n",
              "      <th>tp</th>\n",
              "      <th>t2m</th>\n",
              "    </tr>\n",
              "  </thead>\n",
              "  <tbody>\n",
              "    <tr>\n",
              "      <th>0</th>\n",
              "      <td>1981-01-01</td>\n",
              "      <td>2.243132</td>\n",
              "      <td>26.472437</td>\n",
              "    </tr>\n",
              "    <tr>\n",
              "      <th>1</th>\n",
              "      <td>1981-02-01</td>\n",
              "      <td>0.528485</td>\n",
              "      <td>27.565454</td>\n",
              "    </tr>\n",
              "    <tr>\n",
              "      <th>2</th>\n",
              "      <td>1981-03-01</td>\n",
              "      <td>9.087366</td>\n",
              "      <td>25.965326</td>\n",
              "    </tr>\n",
              "    <tr>\n",
              "      <th>3</th>\n",
              "      <td>1981-04-01</td>\n",
              "      <td>1.852529</td>\n",
              "      <td>24.651483</td>\n",
              "    </tr>\n",
              "    <tr>\n",
              "      <th>4</th>\n",
              "      <td>1981-05-01</td>\n",
              "      <td>0.150726</td>\n",
              "      <td>24.467798</td>\n",
              "    </tr>\n",
              "    <tr>\n",
              "      <th>...</th>\n",
              "      <td>...</td>\n",
              "      <td>...</td>\n",
              "      <td>...</td>\n",
              "    </tr>\n",
              "    <tr>\n",
              "      <th>475</th>\n",
              "      <td>2020-08-01</td>\n",
              "      <td>0.163947</td>\n",
              "      <td>24.956934</td>\n",
              "    </tr>\n",
              "    <tr>\n",
              "      <th>476</th>\n",
              "      <td>2020-09-01</td>\n",
              "      <td>0.100862</td>\n",
              "      <td>26.793573</td>\n",
              "    </tr>\n",
              "    <tr>\n",
              "      <th>477</th>\n",
              "      <td>2020-10-01</td>\n",
              "      <td>0.338850</td>\n",
              "      <td>29.294122</td>\n",
              "    </tr>\n",
              "    <tr>\n",
              "      <th>478</th>\n",
              "      <td>2020-11-01</td>\n",
              "      <td>1.808710</td>\n",
              "      <td>27.216028</td>\n",
              "    </tr>\n",
              "    <tr>\n",
              "      <th>479</th>\n",
              "      <td>2020-12-01</td>\n",
              "      <td>0.200968</td>\n",
              "      <td>28.621088</td>\n",
              "    </tr>\n",
              "  </tbody>\n",
              "</table>\n",
              "<p>480 rows × 3 columns</p>\n",
              "</div>"
            ],
            "text/plain": [
              "          time        tp        t2m\n",
              "0   1981-01-01  2.243132  26.472437\n",
              "1   1981-02-01  0.528485  27.565454\n",
              "2   1981-03-01  9.087366  25.965326\n",
              "3   1981-04-01  1.852529  24.651483\n",
              "4   1981-05-01  0.150726  24.467798\n",
              "..         ...       ...        ...\n",
              "475 2020-08-01  0.163947  24.956934\n",
              "476 2020-09-01  0.100862  26.793573\n",
              "477 2020-10-01  0.338850  29.294122\n",
              "478 2020-11-01  1.808710  27.216028\n",
              "479 2020-12-01  0.200968  28.621088\n",
              "\n",
              "[480 rows x 3 columns]"
            ]
          },
          "metadata": {
            "tags": []
          },
          "execution_count": 18
        }
      ]
    },
    {
      "cell_type": "markdown",
      "metadata": {
        "id": "W0BKvJW9Xmr6"
      },
      "source": [
        "## API INMET  \n",
        "\n",
        "O manual da API pode ser encontrado em: https://portal.inmet.gov.br/manual"
      ]
    },
    {
      "cell_type": "code",
      "metadata": {
        "id": "DFnp05WvXcIq"
      },
      "source": [
        "import requests\n",
        "import pandas as pd"
      ],
      "execution_count": 19,
      "outputs": []
    },
    {
      "cell_type": "markdown",
      "metadata": {
        "id": "2TqzfMgm3uIX"
      },
      "source": [
        "Código da estação e geocode de Petrolina: 82983; 2611101."
      ]
    },
    {
      "cell_type": "code",
      "metadata": {
        "id": "LKThAABvbYO2"
      },
      "source": [
        "response_inmet = requests.get('https://apitempo.inmet.gov.br/estacao/diaria/1981-01-01/2020-12-31/82983').json()"
      ],
      "execution_count": 20,
      "outputs": []
    },
    {
      "cell_type": "code",
      "metadata": {
        "colab": {
          "base_uri": "https://localhost:8080/",
          "height": 238
        },
        "id": "v1mYQnDhbuH1",
        "outputId": "799ac23b-5c12-4584-a9f2-0f5ff25509fd"
      },
      "source": [
        "df_projeta = pd.DataFrame.from_dict(response_inmet)\n",
        "df_projeta['DT_MEDICAO'] =  pd.to_datetime(df_projeta['DT_MEDICAO'], format='%Y-%m-%d')\n",
        "df_projeta.set_index('DT_MEDICAO', inplace=True)\n",
        "df_projeta.head()"
      ],
      "execution_count": 21,
      "outputs": [
        {
          "output_type": "execute_result",
          "data": {
            "text/html": [
              "<div>\n",
              "<style scoped>\n",
              "    .dataframe tbody tr th:only-of-type {\n",
              "        vertical-align: middle;\n",
              "    }\n",
              "\n",
              "    .dataframe tbody tr th {\n",
              "        vertical-align: top;\n",
              "    }\n",
              "\n",
              "    .dataframe thead th {\n",
              "        text-align: right;\n",
              "    }\n",
              "</style>\n",
              "<table border=\"1\" class=\"dataframe\">\n",
              "  <thead>\n",
              "    <tr style=\"text-align: right;\">\n",
              "      <th></th>\n",
              "      <th>TEMP_MAX</th>\n",
              "      <th>UMID_MED</th>\n",
              "      <th>UF</th>\n",
              "      <th>DC_NOME</th>\n",
              "      <th>TEMP_MED</th>\n",
              "      <th>CHUVA</th>\n",
              "      <th>INSOLACAO</th>\n",
              "      <th>CD_ESTACAO</th>\n",
              "      <th>VL_LATITUDE</th>\n",
              "      <th>VL_LONGITUDE</th>\n",
              "      <th>TEMP_MIN</th>\n",
              "    </tr>\n",
              "    <tr>\n",
              "      <th>DT_MEDICAO</th>\n",
              "      <th></th>\n",
              "      <th></th>\n",
              "      <th></th>\n",
              "      <th></th>\n",
              "      <th></th>\n",
              "      <th></th>\n",
              "      <th></th>\n",
              "      <th></th>\n",
              "      <th></th>\n",
              "      <th></th>\n",
              "      <th></th>\n",
              "    </tr>\n",
              "  </thead>\n",
              "  <tbody>\n",
              "    <tr>\n",
              "      <th>1981-01-01</th>\n",
              "      <td>29.6</td>\n",
              "      <td>74.75</td>\n",
              "      <td>PE</td>\n",
              "      <td>PETROLINA</td>\n",
              "      <td>25.44</td>\n",
              "      <td>16.4</td>\n",
              "      <td>0.7</td>\n",
              "      <td>82983</td>\n",
              "      <td>-9.3886111</td>\n",
              "      <td>-40.52333332</td>\n",
              "      <td>22.2</td>\n",
              "    </tr>\n",
              "    <tr>\n",
              "      <th>1981-01-02</th>\n",
              "      <td>32.1</td>\n",
              "      <td>57.5</td>\n",
              "      <td>PE</td>\n",
              "      <td>PETROLINA</td>\n",
              "      <td>27.5</td>\n",
              "      <td>0</td>\n",
              "      <td>4.6</td>\n",
              "      <td>82983</td>\n",
              "      <td>-9.3886111</td>\n",
              "      <td>-40.52333332</td>\n",
              "      <td>23.4</td>\n",
              "    </tr>\n",
              "    <tr>\n",
              "      <th>1981-01-03</th>\n",
              "      <td>31.5</td>\n",
              "      <td>58.5</td>\n",
              "      <td>PE</td>\n",
              "      <td>PETROLINA</td>\n",
              "      <td>26.74</td>\n",
              "      <td>4.6</td>\n",
              "      <td>5.5</td>\n",
              "      <td>82983</td>\n",
              "      <td>-9.3886111</td>\n",
              "      <td>-40.52333332</td>\n",
              "      <td>22</td>\n",
              "    </tr>\n",
              "    <tr>\n",
              "      <th>1981-01-04</th>\n",
              "      <td>32.3</td>\n",
              "      <td>46.75</td>\n",
              "      <td>PE</td>\n",
              "      <td>PETROLINA</td>\n",
              "      <td>27.1</td>\n",
              "      <td>0</td>\n",
              "      <td>8.6</td>\n",
              "      <td>82983</td>\n",
              "      <td>-9.3886111</td>\n",
              "      <td>-40.52333332</td>\n",
              "      <td>22.4</td>\n",
              "    </tr>\n",
              "    <tr>\n",
              "      <th>1981-01-05</th>\n",
              "      <td>31.7</td>\n",
              "      <td>55.25</td>\n",
              "      <td>PE</td>\n",
              "      <td>PETROLINA</td>\n",
              "      <td>26.5</td>\n",
              "      <td>0</td>\n",
              "      <td>11.1</td>\n",
              "      <td>82983</td>\n",
              "      <td>-9.3886111</td>\n",
              "      <td>-40.52333332</td>\n",
              "      <td>21.4</td>\n",
              "    </tr>\n",
              "  </tbody>\n",
              "</table>\n",
              "</div>"
            ],
            "text/plain": [
              "           TEMP_MAX UMID_MED  UF  ... VL_LATITUDE  VL_LONGITUDE TEMP_MIN\n",
              "DT_MEDICAO                        ...                                   \n",
              "1981-01-01     29.6    74.75  PE  ...  -9.3886111  -40.52333332     22.2\n",
              "1981-01-02     32.1     57.5  PE  ...  -9.3886111  -40.52333332     23.4\n",
              "1981-01-03     31.5     58.5  PE  ...  -9.3886111  -40.52333332       22\n",
              "1981-01-04     32.3    46.75  PE  ...  -9.3886111  -40.52333332     22.4\n",
              "1981-01-05     31.7    55.25  PE  ...  -9.3886111  -40.52333332     21.4\n",
              "\n",
              "[5 rows x 11 columns]"
            ]
          },
          "metadata": {
            "tags": []
          },
          "execution_count": 21
        }
      ]
    },
    {
      "cell_type": "code",
      "metadata": {
        "colab": {
          "base_uri": "https://localhost:8080/",
          "height": 455
        },
        "id": "lheMqkWahYS4",
        "outputId": "82461c27-c934-4868-e641-ed5392994b6b"
      },
      "source": [
        "df_projeta[\"TEMP_MED\"] = pd.to_numeric(df_projeta[\"TEMP_MED\"], downcast=\"float\")\n",
        "df_projeta[\"CHUVA\"] = pd.to_numeric(df_projeta[\"CHUVA\"], downcast=\"float\")\n",
        "tab = df_projeta[['TEMP_MED', 'CHUVA']]\n",
        "tab"
      ],
      "execution_count": 22,
      "outputs": [
        {
          "output_type": "execute_result",
          "data": {
            "text/html": [
              "<div>\n",
              "<style scoped>\n",
              "    .dataframe tbody tr th:only-of-type {\n",
              "        vertical-align: middle;\n",
              "    }\n",
              "\n",
              "    .dataframe tbody tr th {\n",
              "        vertical-align: top;\n",
              "    }\n",
              "\n",
              "    .dataframe thead th {\n",
              "        text-align: right;\n",
              "    }\n",
              "</style>\n",
              "<table border=\"1\" class=\"dataframe\">\n",
              "  <thead>\n",
              "    <tr style=\"text-align: right;\">\n",
              "      <th></th>\n",
              "      <th>TEMP_MED</th>\n",
              "      <th>CHUVA</th>\n",
              "    </tr>\n",
              "    <tr>\n",
              "      <th>DT_MEDICAO</th>\n",
              "      <th></th>\n",
              "      <th></th>\n",
              "    </tr>\n",
              "  </thead>\n",
              "  <tbody>\n",
              "    <tr>\n",
              "      <th>1981-01-01</th>\n",
              "      <td>25.440001</td>\n",
              "      <td>16.4</td>\n",
              "    </tr>\n",
              "    <tr>\n",
              "      <th>1981-01-02</th>\n",
              "      <td>27.500000</td>\n",
              "      <td>0.0</td>\n",
              "    </tr>\n",
              "    <tr>\n",
              "      <th>1981-01-03</th>\n",
              "      <td>26.740000</td>\n",
              "      <td>4.6</td>\n",
              "    </tr>\n",
              "    <tr>\n",
              "      <th>1981-01-04</th>\n",
              "      <td>27.100000</td>\n",
              "      <td>0.0</td>\n",
              "    </tr>\n",
              "    <tr>\n",
              "      <th>1981-01-05</th>\n",
              "      <td>26.500000</td>\n",
              "      <td>0.0</td>\n",
              "    </tr>\n",
              "    <tr>\n",
              "      <th>...</th>\n",
              "      <td>...</td>\n",
              "      <td>...</td>\n",
              "    </tr>\n",
              "    <tr>\n",
              "      <th>2020-12-27</th>\n",
              "      <td>27.820000</td>\n",
              "      <td>0.0</td>\n",
              "    </tr>\n",
              "    <tr>\n",
              "      <th>2020-12-28</th>\n",
              "      <td>28.740000</td>\n",
              "      <td>0.0</td>\n",
              "    </tr>\n",
              "    <tr>\n",
              "      <th>2020-12-29</th>\n",
              "      <td>28.360001</td>\n",
              "      <td>0.0</td>\n",
              "    </tr>\n",
              "    <tr>\n",
              "      <th>2020-12-30</th>\n",
              "      <td>28.760000</td>\n",
              "      <td>0.0</td>\n",
              "    </tr>\n",
              "    <tr>\n",
              "      <th>2020-12-31</th>\n",
              "      <td>28.059999</td>\n",
              "      <td>0.0</td>\n",
              "    </tr>\n",
              "  </tbody>\n",
              "</table>\n",
              "<p>15070 rows × 2 columns</p>\n",
              "</div>"
            ],
            "text/plain": [
              "             TEMP_MED  CHUVA\n",
              "DT_MEDICAO                  \n",
              "1981-01-01  25.440001   16.4\n",
              "1981-01-02  27.500000    0.0\n",
              "1981-01-03  26.740000    4.6\n",
              "1981-01-04  27.100000    0.0\n",
              "1981-01-05  26.500000    0.0\n",
              "...               ...    ...\n",
              "2020-12-27  27.820000    0.0\n",
              "2020-12-28  28.740000    0.0\n",
              "2020-12-29  28.360001    0.0\n",
              "2020-12-30  28.760000    0.0\n",
              "2020-12-31  28.059999    0.0\n",
              "\n",
              "[15070 rows x 2 columns]"
            ]
          },
          "metadata": {
            "tags": []
          },
          "execution_count": 22
        }
      ]
    },
    {
      "cell_type": "code",
      "metadata": {
        "colab": {
          "base_uri": "https://localhost:8080/",
          "height": 424
        },
        "id": "kEDppy11gtei",
        "outputId": "4bf6bd47-594c-4d65-e47d-d29239c91a6a"
      },
      "source": [
        "tab = tab.groupby(pd.Grouper(freq='1M', origin='start')).mean()\n",
        "tab = tab.reset_index()\n",
        "#df_projeta_media_mensal = tab.groupby(by=[tab.index.year, tab.index.month]).mean() # Se preferir com datas em multinível\n",
        "#df_projeta_media_mensal.reset_index(inplace = True)\n",
        "tab"
      ],
      "execution_count": 23,
      "outputs": [
        {
          "output_type": "execute_result",
          "data": {
            "text/html": [
              "<div>\n",
              "<style scoped>\n",
              "    .dataframe tbody tr th:only-of-type {\n",
              "        vertical-align: middle;\n",
              "    }\n",
              "\n",
              "    .dataframe tbody tr th {\n",
              "        vertical-align: top;\n",
              "    }\n",
              "\n",
              "    .dataframe thead th {\n",
              "        text-align: right;\n",
              "    }\n",
              "</style>\n",
              "<table border=\"1\" class=\"dataframe\">\n",
              "  <thead>\n",
              "    <tr style=\"text-align: right;\">\n",
              "      <th></th>\n",
              "      <th>DT_MEDICAO</th>\n",
              "      <th>TEMP_MED</th>\n",
              "      <th>CHUVA</th>\n",
              "    </tr>\n",
              "  </thead>\n",
              "  <tbody>\n",
              "    <tr>\n",
              "      <th>0</th>\n",
              "      <td>1981-01-31</td>\n",
              "      <td>27.090588</td>\n",
              "      <td>1.155882</td>\n",
              "    </tr>\n",
              "    <tr>\n",
              "      <th>1</th>\n",
              "      <td>1981-02-28</td>\n",
              "      <td>27.842142</td>\n",
              "      <td>0.542857</td>\n",
              "    </tr>\n",
              "    <tr>\n",
              "      <th>2</th>\n",
              "      <td>1981-03-31</td>\n",
              "      <td>26.272121</td>\n",
              "      <td>8.690625</td>\n",
              "    </tr>\n",
              "    <tr>\n",
              "      <th>3</th>\n",
              "      <td>1981-04-30</td>\n",
              "      <td>24.904516</td>\n",
              "      <td>3.138710</td>\n",
              "    </tr>\n",
              "    <tr>\n",
              "      <th>4</th>\n",
              "      <td>1981-05-31</td>\n",
              "      <td>24.494545</td>\n",
              "      <td>0.000000</td>\n",
              "    </tr>\n",
              "    <tr>\n",
              "      <th>...</th>\n",
              "      <td>...</td>\n",
              "      <td>...</td>\n",
              "      <td>...</td>\n",
              "    </tr>\n",
              "    <tr>\n",
              "      <th>475</th>\n",
              "      <td>2020-08-31</td>\n",
              "      <td>25.010714</td>\n",
              "      <td>0.141935</td>\n",
              "    </tr>\n",
              "    <tr>\n",
              "      <th>476</th>\n",
              "      <td>2020-09-30</td>\n",
              "      <td>26.930666</td>\n",
              "      <td>0.020000</td>\n",
              "    </tr>\n",
              "    <tr>\n",
              "      <th>477</th>\n",
              "      <td>2020-10-31</td>\n",
              "      <td>29.584139</td>\n",
              "      <td>0.067742</td>\n",
              "    </tr>\n",
              "    <tr>\n",
              "      <th>478</th>\n",
              "      <td>2020-11-30</td>\n",
              "      <td>27.251034</td>\n",
              "      <td>5.436666</td>\n",
              "    </tr>\n",
              "    <tr>\n",
              "      <th>479</th>\n",
              "      <td>2020-12-31</td>\n",
              "      <td>29.007999</td>\n",
              "      <td>0.048276</td>\n",
              "    </tr>\n",
              "  </tbody>\n",
              "</table>\n",
              "<p>480 rows × 3 columns</p>\n",
              "</div>"
            ],
            "text/plain": [
              "    DT_MEDICAO   TEMP_MED     CHUVA\n",
              "0   1981-01-31  27.090588  1.155882\n",
              "1   1981-02-28  27.842142  0.542857\n",
              "2   1981-03-31  26.272121  8.690625\n",
              "3   1981-04-30  24.904516  3.138710\n",
              "4   1981-05-31  24.494545  0.000000\n",
              "..         ...        ...       ...\n",
              "475 2020-08-31  25.010714  0.141935\n",
              "476 2020-09-30  26.930666  0.020000\n",
              "477 2020-10-31  29.584139  0.067742\n",
              "478 2020-11-30  27.251034  5.436666\n",
              "479 2020-12-31  29.007999  0.048276\n",
              "\n",
              "[480 rows x 3 columns]"
            ]
          },
          "metadata": {
            "tags": []
          },
          "execution_count": 23
        }
      ]
    },
    {
      "cell_type": "code",
      "metadata": {
        "colab": {
          "base_uri": "https://localhost:8080/",
          "height": 424
        },
        "id": "49XTIbfGoaix",
        "outputId": "617af4df-8b4f-48f2-a286-62872719089b"
      },
      "source": [
        "result = pd.concat([tab[0:479], dftabela], axis=1).reindex(tab[0:479].index)\n",
        "result"
      ],
      "execution_count": 74,
      "outputs": [
        {
          "output_type": "execute_result",
          "data": {
            "text/html": [
              "<div>\n",
              "<style scoped>\n",
              "    .dataframe tbody tr th:only-of-type {\n",
              "        vertical-align: middle;\n",
              "    }\n",
              "\n",
              "    .dataframe tbody tr th {\n",
              "        vertical-align: top;\n",
              "    }\n",
              "\n",
              "    .dataframe thead th {\n",
              "        text-align: right;\n",
              "    }\n",
              "</style>\n",
              "<table border=\"1\" class=\"dataframe\">\n",
              "  <thead>\n",
              "    <tr style=\"text-align: right;\">\n",
              "      <th></th>\n",
              "      <th>DT_MEDICAO</th>\n",
              "      <th>TEMP_MED</th>\n",
              "      <th>CHUVA</th>\n",
              "      <th>time</th>\n",
              "      <th>tp</th>\n",
              "      <th>t2m</th>\n",
              "    </tr>\n",
              "  </thead>\n",
              "  <tbody>\n",
              "    <tr>\n",
              "      <th>0</th>\n",
              "      <td>1981-01-31</td>\n",
              "      <td>27.090588</td>\n",
              "      <td>1.155882</td>\n",
              "      <td>1981-01-01</td>\n",
              "      <td>2.243132</td>\n",
              "      <td>26.472437</td>\n",
              "    </tr>\n",
              "    <tr>\n",
              "      <th>1</th>\n",
              "      <td>1981-02-28</td>\n",
              "      <td>27.842142</td>\n",
              "      <td>0.542857</td>\n",
              "      <td>1981-02-01</td>\n",
              "      <td>0.528485</td>\n",
              "      <td>27.565454</td>\n",
              "    </tr>\n",
              "    <tr>\n",
              "      <th>2</th>\n",
              "      <td>1981-03-31</td>\n",
              "      <td>26.272121</td>\n",
              "      <td>8.690625</td>\n",
              "      <td>1981-03-01</td>\n",
              "      <td>9.087366</td>\n",
              "      <td>25.965326</td>\n",
              "    </tr>\n",
              "    <tr>\n",
              "      <th>3</th>\n",
              "      <td>1981-04-30</td>\n",
              "      <td>24.904516</td>\n",
              "      <td>3.138710</td>\n",
              "      <td>1981-04-01</td>\n",
              "      <td>1.852529</td>\n",
              "      <td>24.651483</td>\n",
              "    </tr>\n",
              "    <tr>\n",
              "      <th>4</th>\n",
              "      <td>1981-05-31</td>\n",
              "      <td>24.494545</td>\n",
              "      <td>0.000000</td>\n",
              "      <td>1981-05-01</td>\n",
              "      <td>0.150726</td>\n",
              "      <td>24.467798</td>\n",
              "    </tr>\n",
              "    <tr>\n",
              "      <th>...</th>\n",
              "      <td>...</td>\n",
              "      <td>...</td>\n",
              "      <td>...</td>\n",
              "      <td>...</td>\n",
              "      <td>...</td>\n",
              "      <td>...</td>\n",
              "    </tr>\n",
              "    <tr>\n",
              "      <th>474</th>\n",
              "      <td>2020-07-31</td>\n",
              "      <td>24.544138</td>\n",
              "      <td>0.158065</td>\n",
              "      <td>2020-07-01</td>\n",
              "      <td>0.266320</td>\n",
              "      <td>24.435205</td>\n",
              "    </tr>\n",
              "    <tr>\n",
              "      <th>475</th>\n",
              "      <td>2020-08-31</td>\n",
              "      <td>25.010714</td>\n",
              "      <td>0.141935</td>\n",
              "      <td>2020-08-01</td>\n",
              "      <td>0.163947</td>\n",
              "      <td>24.956934</td>\n",
              "    </tr>\n",
              "    <tr>\n",
              "      <th>476</th>\n",
              "      <td>2020-09-30</td>\n",
              "      <td>26.930666</td>\n",
              "      <td>0.020000</td>\n",
              "      <td>2020-09-01</td>\n",
              "      <td>0.100862</td>\n",
              "      <td>26.793573</td>\n",
              "    </tr>\n",
              "    <tr>\n",
              "      <th>477</th>\n",
              "      <td>2020-10-31</td>\n",
              "      <td>29.584139</td>\n",
              "      <td>0.067742</td>\n",
              "      <td>2020-10-01</td>\n",
              "      <td>0.338850</td>\n",
              "      <td>29.294122</td>\n",
              "    </tr>\n",
              "    <tr>\n",
              "      <th>478</th>\n",
              "      <td>2020-11-30</td>\n",
              "      <td>27.251034</td>\n",
              "      <td>5.436666</td>\n",
              "      <td>2020-11-01</td>\n",
              "      <td>1.808710</td>\n",
              "      <td>27.216028</td>\n",
              "    </tr>\n",
              "  </tbody>\n",
              "</table>\n",
              "<p>479 rows × 6 columns</p>\n",
              "</div>"
            ],
            "text/plain": [
              "    DT_MEDICAO   TEMP_MED     CHUVA       time        tp        t2m\n",
              "0   1981-01-31  27.090588  1.155882 1981-01-01  2.243132  26.472437\n",
              "1   1981-02-28  27.842142  0.542857 1981-02-01  0.528485  27.565454\n",
              "2   1981-03-31  26.272121  8.690625 1981-03-01  9.087366  25.965326\n",
              "3   1981-04-30  24.904516  3.138710 1981-04-01  1.852529  24.651483\n",
              "4   1981-05-31  24.494545  0.000000 1981-05-01  0.150726  24.467798\n",
              "..         ...        ...       ...        ...       ...        ...\n",
              "474 2020-07-31  24.544138  0.158065 2020-07-01  0.266320  24.435205\n",
              "475 2020-08-31  25.010714  0.141935 2020-08-01  0.163947  24.956934\n",
              "476 2020-09-30  26.930666  0.020000 2020-09-01  0.100862  26.793573\n",
              "477 2020-10-31  29.584139  0.067742 2020-10-01  0.338850  29.294122\n",
              "478 2020-11-30  27.251034  5.436666 2020-11-01  1.808710  27.216028\n",
              "\n",
              "[479 rows x 6 columns]"
            ]
          },
          "metadata": {
            "tags": []
          },
          "execution_count": 74
        }
      ]
    },
    {
      "cell_type": "code",
      "metadata": {
        "colab": {
          "base_uri": "https://localhost:8080/",
          "height": 455
        },
        "id": "tFUE2plyr2ND",
        "outputId": "488f548f-fb2c-49d4-b016-6d91d085ce8c"
      },
      "source": [
        "result['DT_MEDICAO'] =  pd.to_datetime(result['DT_MEDICAO']).dt.strftime(\"%Y-%m\")\n",
        "result['time'] =  pd.to_datetime(result['time']).dt.strftime(\"%Y-%m\")\n",
        "result.set_index('time', inplace=True)\n",
        "result[\"CHUVA\"] = pd.to_numeric(result[\"CHUVA\"], downcast=\"float\")\n",
        "result[\"tp\"] = pd.to_numeric(result[\"tp\"], downcast=\"float\")\n",
        "\n",
        "\n",
        "result"
      ],
      "execution_count": 75,
      "outputs": [
        {
          "output_type": "execute_result",
          "data": {
            "text/html": [
              "<div>\n",
              "<style scoped>\n",
              "    .dataframe tbody tr th:only-of-type {\n",
              "        vertical-align: middle;\n",
              "    }\n",
              "\n",
              "    .dataframe tbody tr th {\n",
              "        vertical-align: top;\n",
              "    }\n",
              "\n",
              "    .dataframe thead th {\n",
              "        text-align: right;\n",
              "    }\n",
              "</style>\n",
              "<table border=\"1\" class=\"dataframe\">\n",
              "  <thead>\n",
              "    <tr style=\"text-align: right;\">\n",
              "      <th></th>\n",
              "      <th>DT_MEDICAO</th>\n",
              "      <th>TEMP_MED</th>\n",
              "      <th>CHUVA</th>\n",
              "      <th>tp</th>\n",
              "      <th>t2m</th>\n",
              "    </tr>\n",
              "    <tr>\n",
              "      <th>time</th>\n",
              "      <th></th>\n",
              "      <th></th>\n",
              "      <th></th>\n",
              "      <th></th>\n",
              "      <th></th>\n",
              "    </tr>\n",
              "  </thead>\n",
              "  <tbody>\n",
              "    <tr>\n",
              "      <th>1981-01</th>\n",
              "      <td>1981-01</td>\n",
              "      <td>27.090588</td>\n",
              "      <td>1.155882</td>\n",
              "      <td>2.243132</td>\n",
              "      <td>26.472437</td>\n",
              "    </tr>\n",
              "    <tr>\n",
              "      <th>1981-02</th>\n",
              "      <td>1981-02</td>\n",
              "      <td>27.842142</td>\n",
              "      <td>0.542857</td>\n",
              "      <td>0.528485</td>\n",
              "      <td>27.565454</td>\n",
              "    </tr>\n",
              "    <tr>\n",
              "      <th>1981-03</th>\n",
              "      <td>1981-03</td>\n",
              "      <td>26.272121</td>\n",
              "      <td>8.690625</td>\n",
              "      <td>9.087366</td>\n",
              "      <td>25.965326</td>\n",
              "    </tr>\n",
              "    <tr>\n",
              "      <th>1981-04</th>\n",
              "      <td>1981-04</td>\n",
              "      <td>24.904516</td>\n",
              "      <td>3.138710</td>\n",
              "      <td>1.852529</td>\n",
              "      <td>24.651483</td>\n",
              "    </tr>\n",
              "    <tr>\n",
              "      <th>1981-05</th>\n",
              "      <td>1981-05</td>\n",
              "      <td>24.494545</td>\n",
              "      <td>0.000000</td>\n",
              "      <td>0.150726</td>\n",
              "      <td>24.467798</td>\n",
              "    </tr>\n",
              "    <tr>\n",
              "      <th>...</th>\n",
              "      <td>...</td>\n",
              "      <td>...</td>\n",
              "      <td>...</td>\n",
              "      <td>...</td>\n",
              "      <td>...</td>\n",
              "    </tr>\n",
              "    <tr>\n",
              "      <th>2020-07</th>\n",
              "      <td>2020-07</td>\n",
              "      <td>24.544138</td>\n",
              "      <td>0.158065</td>\n",
              "      <td>0.266320</td>\n",
              "      <td>24.435205</td>\n",
              "    </tr>\n",
              "    <tr>\n",
              "      <th>2020-08</th>\n",
              "      <td>2020-08</td>\n",
              "      <td>25.010714</td>\n",
              "      <td>0.141935</td>\n",
              "      <td>0.163947</td>\n",
              "      <td>24.956934</td>\n",
              "    </tr>\n",
              "    <tr>\n",
              "      <th>2020-09</th>\n",
              "      <td>2020-09</td>\n",
              "      <td>26.930666</td>\n",
              "      <td>0.020000</td>\n",
              "      <td>0.100862</td>\n",
              "      <td>26.793573</td>\n",
              "    </tr>\n",
              "    <tr>\n",
              "      <th>2020-10</th>\n",
              "      <td>2020-10</td>\n",
              "      <td>29.584139</td>\n",
              "      <td>0.067742</td>\n",
              "      <td>0.338850</td>\n",
              "      <td>29.294122</td>\n",
              "    </tr>\n",
              "    <tr>\n",
              "      <th>2020-11</th>\n",
              "      <td>2020-11</td>\n",
              "      <td>27.251034</td>\n",
              "      <td>5.436666</td>\n",
              "      <td>1.808710</td>\n",
              "      <td>27.216028</td>\n",
              "    </tr>\n",
              "  </tbody>\n",
              "</table>\n",
              "<p>479 rows × 5 columns</p>\n",
              "</div>"
            ],
            "text/plain": [
              "        DT_MEDICAO   TEMP_MED     CHUVA        tp        t2m\n",
              "time                                                        \n",
              "1981-01    1981-01  27.090588  1.155882  2.243132  26.472437\n",
              "1981-02    1981-02  27.842142  0.542857  0.528485  27.565454\n",
              "1981-03    1981-03  26.272121  8.690625  9.087366  25.965326\n",
              "1981-04    1981-04  24.904516  3.138710  1.852529  24.651483\n",
              "1981-05    1981-05  24.494545  0.000000  0.150726  24.467798\n",
              "...            ...        ...       ...       ...        ...\n",
              "2020-07    2020-07  24.544138  0.158065  0.266320  24.435205\n",
              "2020-08    2020-08  25.010714  0.141935  0.163947  24.956934\n",
              "2020-09    2020-09  26.930666  0.020000  0.100862  26.793573\n",
              "2020-10    2020-10  29.584139  0.067742  0.338850  29.294122\n",
              "2020-11    2020-11  27.251034  5.436666  1.808710  27.216028\n",
              "\n",
              "[479 rows x 5 columns]"
            ]
          },
          "metadata": {
            "tags": []
          },
          "execution_count": 75
        }
      ]
    },
    {
      "cell_type": "code",
      "metadata": {
        "colab": {
          "base_uri": "https://localhost:8080/"
        },
        "id": "J7PpdfBX3RUG",
        "outputId": "809bbc41-ddf9-4cc6-9d2b-9d19a47e29f5"
      },
      "source": [
        "result.info()"
      ],
      "execution_count": 26,
      "outputs": [
        {
          "output_type": "stream",
          "text": [
            "<class 'pandas.core.frame.DataFrame'>\n",
            "Index: 479 entries, 1981-01 to 2020-11\n",
            "Data columns (total 5 columns):\n",
            " #   Column      Non-Null Count  Dtype  \n",
            "---  ------      --------------  -----  \n",
            " 0   DT_MEDICAO  479 non-null    object \n",
            " 1   TEMP_MED    448 non-null    float32\n",
            " 2   CHUVA       462 non-null    float32\n",
            " 3   tp          479 non-null    float32\n",
            " 4   t2m         479 non-null    float64\n",
            "dtypes: float32(3), float64(1), object(1)\n",
            "memory usage: 16.8+ KB\n"
          ],
          "name": "stdout"
        }
      ]
    },
    {
      "cell_type": "code",
      "metadata": {
        "colab": {
          "base_uri": "https://localhost:8080/"
        },
        "id": "FYHawl-_6GBE",
        "outputId": "33ba6ea2-c51a-4766-a042-1bdcde5082ac"
      },
      "source": [
        "result = result.dropna()\n",
        "result.info()"
      ],
      "execution_count": 76,
      "outputs": [
        {
          "output_type": "stream",
          "text": [
            "<class 'pandas.core.frame.DataFrame'>\n",
            "Index: 448 entries, 1981-01 to 2020-11\n",
            "Data columns (total 5 columns):\n",
            " #   Column      Non-Null Count  Dtype  \n",
            "---  ------      --------------  -----  \n",
            " 0   DT_MEDICAO  448 non-null    object \n",
            " 1   TEMP_MED    448 non-null    float32\n",
            " 2   CHUVA       448 non-null    float32\n",
            " 3   tp          448 non-null    float32\n",
            " 4   t2m         448 non-null    float64\n",
            "dtypes: float32(3), float64(1), object(1)\n",
            "memory usage: 15.8+ KB\n"
          ],
          "name": "stdout"
        }
      ]
    },
    {
      "cell_type": "code",
      "metadata": {
        "id": "UYgjIXh_qo8C"
      },
      "source": [
        "result.to_csv('tabelacompleta.csv')"
      ],
      "execution_count": 28,
      "outputs": []
    },
    {
      "cell_type": "markdown",
      "metadata": {
        "id": "wxQ6FNBUu77b"
      },
      "source": [
        "##### RMSE"
      ]
    },
    {
      "cell_type": "code",
      "metadata": {
        "colab": {
          "base_uri": "https://localhost:8080/"
        },
        "id": "5Ixat3KiwADs",
        "outputId": "ff0e8d17-8d86-48a6-b58c-676b00c6df19"
      },
      "source": [
        "from sklearn.metrics import mean_squared_error\n",
        "\n",
        "\n",
        "rmse = mean_squared_error(result['CHUVA'], result['tp'], squared=False)\n",
        "rmse\n",
        "\n",
        "\n",
        "\n"
      ],
      "execution_count": 29,
      "outputs": [
        {
          "output_type": "execute_result",
          "data": {
            "text/plain": [
              "1.1278179"
            ]
          },
          "metadata": {
            "tags": []
          },
          "execution_count": 29
        }
      ]
    },
    {
      "cell_type": "code",
      "metadata": {
        "colab": {
          "base_uri": "https://localhost:8080/"
        },
        "id": "5-yg0Bdc7ra2",
        "outputId": "e0988697-852b-463f-8c23-4a804e5bb1eb"
      },
      "source": [
        "from sklearn.metrics import r2_score #método para o cálculo do R2\n",
        "\n",
        "R_2 = r2_score(result['CHUVA'], result['tp'])  #realiza o cálculo do R2\n",
        "R_2"
      ],
      "execution_count": 30,
      "outputs": [
        {
          "output_type": "execute_result",
          "data": {
            "text/plain": [
              "0.7183416603203112"
            ]
          },
          "metadata": {
            "tags": []
          },
          "execution_count": 30
        }
      ]
    },
    {
      "cell_type": "code",
      "metadata": {
        "colab": {
          "base_uri": "https://localhost:8080/",
          "height": 269
        },
        "id": "FzdIvQmg7YkQ",
        "outputId": "f2f26d80-67f3-43b1-b1ba-ff9bfa92fead"
      },
      "source": [
        "from matplotlib import pyplot as plt\n",
        "plt.scatter(result['CHUVA'], result['tp'])\n",
        "plt.xlim(0, 10)\n",
        "plt.ylim(0,10)\n",
        "plt.grid()"
      ],
      "execution_count": 31,
      "outputs": [
        {
          "output_type": "display_data",
          "data": {
            "image/png": "[encoded data removed]",
            "text/plain": [
              "<Figure size 432x288 with 1 Axes>"
            ]
          },
          "metadata": {
            "tags": [],
            "needs_background": "light"
          }
        }
      ]
    },
    {
      "cell_type": "code",
      "metadata": {
        "id": "PdjzjIgWc3s5"
      },
      "source": [
        "df.query('latitude < ' + latitude1 + ' and latitude > ' + latitude2 + ' and longitude < ' + longitude1 + ' and longitude > ' + longitude2).to_csv('teste.csv')"
      ],
      "execution_count": 32,
      "outputs": []
    },
    {
      "cell_type": "markdown",
      "metadata": {
        "id": "ftxPqJRpw_uM"
      },
      "source": [
        "## Teste de Hipótese\n"
      ]
    },
    {
      "cell_type": "code",
      "metadata": {
        "id": "ZcM81QyOxsot"
      },
      "source": [
        "from scipy.stats import mannwhitneyu\n",
        "import statsmodels as sm"
      ],
      "execution_count": 34,
      "outputs": []
    },
    {
      "cell_type": "code",
      "metadata": {
        "id": "UkiqYAt702bL"
      },
      "source": [
        "def testeMW(sample1, sample2):\n",
        "  \n",
        "  statMann, pMann = mannwhitneyu(sample1, sample2)\n",
        "  hipotese(pMann)\n",
        "\n",
        "def testeWaldwolf(sample1,sample2):\n",
        "  statWald, pWald = sm.sandbox.stats.runs.runstest_2samp(sample1, sample2)\n",
        "  hipotese(pWald)\n",
        "\n",
        "\n",
        "\n",
        "def hipotese(p):  \n",
        "  print(f'p-valor: {p:.3f}')\n",
        "  alpha = 0.05\n",
        "  if p > alpha:\n",
        "\t  print('Mesma distribuição (falha ao rejeitar H0)')\n",
        "  else:\n",
        "\t  print('Distribution diferente (H0 rejeitado)')\n",
        "\n"
      ],
      "execution_count": 35,
      "outputs": []
    },
    {
      "cell_type": "code",
      "metadata": {
        "id": "VtNStIQq5sm_"
      },
      "source": [
        "indiceMetadeSerie = int((len(result['tp'])/2)) # divide  a série pela metade\n",
        "amostra1 = result['tp'][0:indiceMetadeSerie]    #amostra com a metade inicial\n",
        "amostra2 = result['tp'][indiceMetadeSerie:len(result['tp'])] #amostra com a metade final"
      ],
      "execution_count": 36,
      "outputs": []
    },
    {
      "cell_type": "code",
      "metadata": {
        "colab": {
          "base_uri": "https://localhost:8080/"
        },
        "id": "0q3jsqcVx1rg",
        "outputId": "fd5c06bd-b8fd-4534-c7a1-737850f514e8"
      },
      "source": [
        "testeMW(amostra1, amostra2)"
      ],
      "execution_count": 48,
      "outputs": [
        {
          "output_type": "stream",
          "text": [
            "p-valor: 0.134\n",
            "Mesma distribuição (falha ao rejeitar H0)\n"
          ],
          "name": "stdout"
        }
      ]
    },
    {
      "cell_type": "code",
      "metadata": {
        "colab": {
          "base_uri": "https://localhost:8080/"
        },
        "id": "ScUpbkZ45rS7",
        "outputId": "d76a6d90-556e-478c-b4af-2170554f20a6"
      },
      "source": [
        "testeWaldwolf(amostra1, amostra2)"
      ],
      "execution_count": 49,
      "outputs": [
        {
          "output_type": "stream",
          "text": [
            "ties detected\n",
            "p-valor: 0.508\n",
            "Mesma distribuição (falha ao rejeitar H0)\n"
          ],
          "name": "stdout"
        }
      ]
    },
    {
      "cell_type": "code",
      "metadata": {
        "colab": {
          "base_uri": "https://localhost:8080/"
        },
        "id": "k_Ua4MTFb5NX",
        "outputId": "fc7313c6-8fc5-4e41-a4d5-1ca531de1b8e"
      },
      "source": [
        "# Example of the Chi-Squared Test\n",
        "from scipy.stats import chi2_contingency\n",
        "\n",
        "stat, p, dof, expected = chi2_contingency(amostra1, amostra2)\n",
        "print('stat=%.3f, p=%.3f' % (stat, p))\n",
        "if p > 0.05:\n",
        "\tprint('Probably independent')\n",
        "else:\n",
        "\tprint('Probably dependent')"
      ],
      "execution_count": 50,
      "outputs": [
        {
          "output_type": "stream",
          "text": [
            "stat=0.000, p=1.000\n",
            "Probably independent\n"
          ],
          "name": "stdout"
        }
      ]
    },
    {
      "cell_type": "code",
      "metadata": {
        "colab": {
          "base_uri": "https://localhost:8080/"
        },
        "id": "Uss9S76LPlae",
        "outputId": "10324782-b8cf-47e4-ca14-5dee0b3859d8"
      },
      "source": [
        "from scipy import stats\n",
        "\n",
        "stats.spearmanr(amostra1, amostra2)"
      ],
      "execution_count": 52,
      "outputs": [
        {
          "output_type": "execute_result",
          "data": {
            "text/plain": [
              "SpearmanrResult(correlation=-0.22536053393307934, pvalue=0.0006792201746687402)"
            ]
          },
          "metadata": {
            "tags": []
          },
          "execution_count": 52
        }
      ]
    },
    {
      "cell_type": "code",
      "metadata": {
        "colab": {
          "base_uri": "https://localhost:8080/"
        },
        "id": "7Ay72rJ5YAzB",
        "outputId": "16cd387d-ec2a-47c2-9397-a1130ce16bef"
      },
      "source": [
        "from statsmodels.sandbox.stats.runs import runstest_1samp \n",
        "\n",
        "#create dataset\n",
        "data = [12, 16, 16, 15, 14, 18, 19, 21, 13, 13]\n",
        "\n",
        "#Perform Runs test\n",
        "runstest_1samp(data, correction=False)\n"
      ],
      "execution_count": 41,
      "outputs": [
        {
          "output_type": "stream",
          "text": [
            "/usr/local/lib/python3.7/dist-packages/statsmodels/tools/_testing.py:19: FutureWarning: pandas.util.testing is deprecated. Use the functions in the public API at pandas.testing instead.\n",
            "  import pandas.util.testing as tm\n"
          ],
          "name": "stderr"
        },
        {
          "output_type": "execute_result",
          "data": {
            "text/plain": [
              "(-0.6708203932499369, 0.5023349543605021)"
            ]
          },
          "metadata": {
            "tags": []
          },
          "execution_count": 41
        }
      ]
    },
    {
      "cell_type": "code",
      "metadata": {
        "colab": {
          "base_uri": "https://localhost:8080/"
        },
        "id": "JFXAoePzZ7OW",
        "outputId": "2f213577-6684-4d91-f103-61fc6b05fcae"
      },
      "source": [
        "from statsmodels.sandbox.stats.runs import runstest_2samp \n",
        "runstest_2samp(amostra1, amostra2)"
      ],
      "execution_count": 42,
      "outputs": [
        {
          "output_type": "stream",
          "text": [
            "ties detected\n"
          ],
          "name": "stdout"
        },
        {
          "output_type": "execute_result",
          "data": {
            "text/plain": [
              "(-0.6621789348084367, 0.5078565527775274)"
            ]
          },
          "metadata": {
            "tags": []
          },
          "execution_count": 42
        }
      ]
    },
    {
      "cell_type": "code",
      "metadata": {
        "colab": {
          "base_uri": "https://localhost:8080/"
        },
        "id": "vFXjHLBqZ8yM",
        "outputId": "2ca82d28-ed13-4b46-a7af-72b2573e5ef7"
      },
      "source": [
        "from statsmodels.tsa.stattools import adfuller\n",
        "stat, p, lags, obs, crit, t = adfuller(result['tp'])\n",
        "print('stat=%.3f, p=%.3f' % (stat, p))\n",
        "if p > 0.05:\n",
        "\tprint('Probably not Stationary')\n",
        "else:\n",
        "\tprint('Probably Stationary')"
      ],
      "execution_count": 55,
      "outputs": [
        {
          "output_type": "stream",
          "text": [
            "stat=-4.153, p=0.001\n",
            "Probably Stationary\n"
          ],
          "name": "stdout"
        }
      ]
    },
    {
      "cell_type": "markdown",
      "metadata": {
        "id": "GgDedO2NodbH"
      },
      "source": [
        "### Tendência"
      ]
    },
    {
      "cell_type": "code",
      "metadata": {
        "colab": {
          "base_uri": "https://localhost:8080/"
        },
        "id": "siOJtE5pbVG9",
        "outputId": "333d3bbd-9335-4866-907e-b36528fee3f9"
      },
      "source": [
        "!pip install pymannkendall"
      ],
      "execution_count": 56,
      "outputs": [
        {
          "output_type": "stream",
          "text": [
            "Collecting pymannkendall\n",
            "  Downloading https://files.pythonhosted.org/packages/03/72/7eeda485b586ddaaa274225bb2aa365f3a24c94790283d7c230bcecbb28e/pymannkendall-1.4.2-py3-none-any.whl\n",
            "Requirement already satisfied: numpy in /usr/local/lib/python3.7/dist-packages (from pymannkendall) (1.19.5)\n",
            "Requirement already satisfied: scipy in /usr/local/lib/python3.7/dist-packages (from pymannkendall) (1.4.1)\n",
            "Installing collected packages: pymannkendall\n",
            "Successfully installed pymannkendall-1.4.2\n"
          ],
          "name": "stdout"
        }
      ]
    },
    {
      "cell_type": "code",
      "metadata": {
        "colab": {
          "base_uri": "https://localhost:8080/"
        },
        "id": "EoX45sNMogel",
        "outputId": "739ab517-978b-4905-84a1-573c514ccd2d"
      },
      "source": [
        "import pymannkendall as mk\n",
        "\n",
        "mk.original_test(result['tp'])"
      ],
      "execution_count": 57,
      "outputs": [
        {
          "output_type": "execute_result",
          "data": {
            "text/plain": [
              "Mann_Kendall_Test(trend='no trend', h=False, p=0.3776846609883018, z=-0.8821704097508879, Tau=-0.02790428251837648, s=-2794.0, var_s=10023904.0, slope=-0.00011646813098118873, intercept=0.4124782655475348)"
            ]
          },
          "metadata": {
            "tags": []
          },
          "execution_count": 57
        }
      ]
    },
    {
      "cell_type": "code",
      "metadata": {
        "colab": {
          "base_uri": "https://localhost:8080/"
        },
        "id": "SSoM-rxgvsRs",
        "outputId": "e6a6657f-2c0d-4047-a884-3b4550b6e588"
      },
      "source": [
        "mk.seasonal_test(result['tp'], period=12)"
      ],
      "execution_count": 85,
      "outputs": [
        {
          "output_type": "execute_result",
          "data": {
            "text/plain": [
              "Seasonal_Mann_Kendall_Test(trend='no trend', h=False, p=0.7095286420954214, z=-0.37248921275219454, Tau=-0.012407862407862407, s=-101.0, var_s=72073.0, slope=-0.00045336782932281494, intercept=0.39489161409437656)"
            ]
          },
          "metadata": {
            "tags": []
          },
          "execution_count": 85
        }
      ]
    },
    {
      "cell_type": "code",
      "metadata": {
        "colab": {
          "base_uri": "https://localhost:8080/"
        },
        "id": "qeSndnU6uiI-",
        "outputId": "17ca96ab-0bc8-4cf8-df4f-ada518e01a31"
      },
      "source": [
        "mk.seasonal_test(result['t2m'], period=12)"
      ],
      "execution_count": 86,
      "outputs": [
        {
          "output_type": "execute_result",
          "data": {
            "text/plain": [
              "Seasonal_Mann_Kendall_Test(trend='increasing', h=True, p=3.906164280920166e-10, z=6.257731949926266, Tau=0.2065110565110565, s=1681.0, var_s=72075.0, slope=0.037054443359375, intercept=26.45408096313479)"
            ]
          },
          "metadata": {
            "tags": []
          },
          "execution_count": 86
        }
      ]
    },
    {
      "cell_type": "code",
      "metadata": {
        "colab": {
          "base_uri": "https://localhost:8080/"
        },
        "id": "4djt5IcDqSv2",
        "outputId": "4a0c590f-6f93-406c-fd85-14e29201fe84"
      },
      "source": [
        "mk.sens_slope(result['tp'])"
      ],
      "execution_count": 60,
      "outputs": [
        {
          "output_type": "execute_result",
          "data": {
            "text/plain": [
              "Sens_Slope_Test(slope=-0.00011646813098118873, intercept=0.4124782655475348)"
            ]
          },
          "metadata": {
            "tags": []
          },
          "execution_count": 60
        }
      ]
    },
    {
      "cell_type": "code",
      "metadata": {
        "colab": {
          "base_uri": "https://localhost:8080/"
        },
        "id": "KRvsad6lolNo",
        "outputId": "af2154d4-7320-4806-e6f3-0e065a759d4d"
      },
      "source": [
        "import scipy.stats as stats\n",
        "tau, p_value = stats.kendalltau(amostra1, amostra2)\n",
        "print(tau)\n",
        "\n",
        "p_value"
      ],
      "execution_count": 58,
      "outputs": [
        {
          "output_type": "stream",
          "text": [
            "-0.14252818351339963\n"
          ],
          "name": "stdout"
        },
        {
          "output_type": "execute_result",
          "data": {
            "text/plain": [
              "0.0015022580705378798"
            ]
          },
          "metadata": {
            "tags": []
          },
          "execution_count": 58
        }
      ]
    },
    {
      "cell_type": "code",
      "metadata": {
        "colab": {
          "base_uri": "https://localhost:8080/"
        },
        "id": "b9IVudR6pU_e",
        "outputId": "c4cf2598-11b5-4da9-e167-04d40db4f699"
      },
      "source": [
        "!pip install pyhomogeneity"
      ],
      "execution_count": 61,
      "outputs": [
        {
          "output_type": "stream",
          "text": [
            "Collecting pyhomogeneity\n",
            "  Downloading https://files.pythonhosted.org/packages/e2/8a/a1ffa82674cc748bdf8d46c3d1f681651679038f1cbd9bb0fae7b649d457/pyhomogeneity-1.1-py3-none-any.whl\n",
            "Requirement already satisfied: numpy in /usr/local/lib/python3.7/dist-packages (from pyhomogeneity) (1.19.5)\n",
            "Requirement already satisfied: scipy in /usr/local/lib/python3.7/dist-packages (from pyhomogeneity) (1.4.1)\n",
            "Installing collected packages: pyhomogeneity\n",
            "Successfully installed pyhomogeneity-1.1\n"
          ],
          "name": "stdout"
        }
      ]
    },
    {
      "cell_type": "code",
      "metadata": {
        "colab": {
          "base_uri": "https://localhost:8080/"
        },
        "id": "3dkoTCFtrekH",
        "outputId": "d16af10e-232d-42d4-e2b4-f2aa29773ea8"
      },
      "source": [
        "import pyhomogeneity as hg\n",
        "\n",
        "\n",
        "resultado = hg.pettitt_test(result['tp'])\n",
        "print(resultado)"
      ],
      "execution_count": 77,
      "outputs": [
        {
          "output_type": "stream",
          "text": [
            "Pettitt_Test(h=False, cp=334, p=0.24605, U=5485.0, avg=mean(mu1=1.316371, mu2=0.8416668))\n"
          ],
          "name": "stdout"
        }
      ]
    },
    {
      "cell_type": "markdown",
      "metadata": {
        "id": "yinlZarJuEed"
      },
      "source": [
        "And all Homogeneity tests return a named tuple which contained:\n",
        "\n",
        "    h: True (if data is nonhomogeneous) or False (if data is homogeneous)\n",
        "    cp: probable change point location\n",
        "    p: p value of the significance test\n",
        "    U/T/Q/R/V: test statistics which depends on the test method\n",
        "    avg: mean values at before and after the change point\n"
      ]
    },
    {
      "cell_type": "code",
      "metadata": {
        "colab": {
          "base_uri": "https://localhost:8080/"
        },
        "id": "SiCI4LiurnjF",
        "outputId": "7d415ed0-62da-4668-8a2c-558b817b75df"
      },
      "source": [
        "result.iloc[334]"
      ],
      "execution_count": 80,
      "outputs": [
        {
          "output_type": "execute_result",
          "data": {
            "text/plain": [
              "DT_MEDICAO     2011-06\n",
              "TEMP_MED        25.364\n",
              "CHUVA                0\n",
              "tp            0.140904\n",
              "t2m            25.3454\n",
              "Name: 2011-06, dtype: object"
            ]
          },
          "metadata": {
            "tags": []
          },
          "execution_count": 80
        }
      ]
    },
    {
      "cell_type": "markdown",
      "metadata": {
        "id": "r9pIhW0Nv2pN"
      },
      "source": [
        "## Índices de Seca"
      ]
    },
    {
      "cell_type": "code",
      "metadata": {
        "colab": {
          "base_uri": "https://localhost:8080/"
        },
        "id": "rkRpAS0Vx-RT",
        "outputId": "54c20101-465b-4140-d170-1d6a1b265c24"
      },
      "source": [
        "import xarray as xr #biblioteca para processar os dados \n",
        "from urllib.request import urlopen \n",
        "\n",
        "# flag para o download data\n",
        "download_flag = True\n",
        "\n",
        "c2 = cdsapi.Client()\n",
        "\n",
        "fl2 = c2.retrieve(\n",
        "    'reanalysis-era5-pressure-levels-monthly-means',\n",
        "    {\n",
        "        'format': 'netcdf',\n",
        "        'product_type': 'monthly_averaged_reanalysis',\n",
        "        'variable': 'relative_humidity',\n",
        "        'pressure_level': '1000',\n",
        "        'year': [\n",
        "            '1981', '1982', '1983',\n",
        "            '1984', '1985', '1986',\n",
        "            '1987', '1988', '1989',\n",
        "            '1990', '1991', '1992',\n",
        "            '1993', '1994', '1995',\n",
        "            '1996', '1997', '1998',\n",
        "            '1999', '2000', '2001',\n",
        "            '2002', '2003', '2004',\n",
        "            '2005', '2006', '2007',\n",
        "            '2008', '2009', '2010',\n",
        "            '2011', '2012', '2013',\n",
        "            '2014', '2015', '2016',\n",
        "            '2017', '2018', '2019',\n",
        "            '2020',\n",
        "        ],\n",
        "        'month': [\n",
        "            '01', '02', '03',\n",
        "            '04', '05', '06',\n",
        "            '07', '08', '09',\n",
        "            '10', '11', '12',\n",
        "        ],\n",
        "        'time': '00:00',\n",
        "        'area': [\n",
        "            -7.5, -41.5, -9.6,\n",
        "            -9.6,\n",
        "        ],\n",
        "    },\n",
        "    'download.nc')\n",
        "\n",
        "\n",
        "#Escolha de diretório no google drive\n",
        "PernambucoERA5UR = './drive/MyDrive/CRH/PernambucoERA5UR.nc'\n",
        "\n",
        "#Caso a flag esteja como True o download do arquivo em netcdf será realizado e \n",
        "#persistido no diretório especificado no google drive\n",
        "if download_flag:\n",
        "  fl2.download(PernambucoERA5UR)\n",
        "\n",
        "#leitura dos dados \n",
        "with urlopen(fl2.location) as f2:\n",
        "    ds2 = xr.open_dataset(f2.read())\n",
        "    print(ds2)"
      ],
      "execution_count": 14,
      "outputs": [
        {
          "output_type": "stream",
          "text": [
            "2021-07-17 00:09:52,853 INFO Welcome to the CDS\n",
            "2021-07-17 00:09:52,855 INFO Sending request to https://cds.climate.copernicus.eu/api/v2/resources/reanalysis-era5-pressure-levels-monthly-means\n",
            "2021-07-17 00:09:53,021 INFO Request is completed\n",
            "2021-07-17 00:09:53,023 INFO Downloading https://download-0000.copernicus-climate.eu/cache-compute-0000/cache/data0/adaptor.mars.internal-1626480151.5846174-20858-17-fb5823ac-91a8-4fd3-b50d-1690362be16e.nc to download.nc (1.1M)\n",
            "2021-07-17 00:09:54,865 INFO Download rate 589.2K/s\n",
            "2021-07-17 00:09:55,013 INFO Downloading https://download-0000.copernicus-climate.eu/cache-compute-0000/cache/data0/adaptor.mars.internal-1626480151.5846174-20858-17-fb5823ac-91a8-4fd3-b50d-1690362be16e.nc to ./drive/MyDrive/CRH/PernambucoERA5UR.nc (1.1M)\n",
            "2021-07-17 00:09:55,305 INFO Download rate 3.6M/s\n"
          ],
          "name": "stderr"
        },
        {
          "output_type": "stream",
          "text": [
            "<xarray.Dataset>\n",
            "Dimensions:    (latitude: 9, longitude: 128, time: 480)\n",
            "Coordinates:\n",
            "  * longitude  (longitude) float32 -41.5 -41.25 -41.0 ... -10.25 -10.0 -9.75\n",
            "  * latitude   (latitude) float32 -7.6 -7.85 -8.1 -8.35 ... -9.1 -9.35 -9.6\n",
            "  * time       (time) datetime64[ns] 1981-01-01 1981-02-01 ... 2020-12-01\n",
            "Data variables:\n",
            "    r          (time, latitude, longitude) float32 ...\n",
            "Attributes:\n",
            "    Conventions:  CF-1.6\n",
            "    history:      2021-07-17 00:02:32 GMT by grib_to_netcdf-2.20.0: /opt/ecmw...\n"
          ],
          "name": "stdout"
        }
      ]
    },
    {
      "cell_type": "code",
      "metadata": {
        "colab": {
          "base_uri": "https://localhost:8080/",
          "height": 455
        },
        "id": "BzuiLJFxqg9l",
        "outputId": "803de43b-28b2-412f-fb85-d09ce185cfde"
      },
      "source": [
        "#Transformação dos dados em dataframe\n",
        "df2 = ds2.to_dataframe()\n",
        "\n",
        "df2"
      ],
      "execution_count": 15,
      "outputs": [
        {
          "output_type": "execute_result",
          "data": {
            "text/html": [
              "<div>\n",
              "<style scoped>\n",
              "    .dataframe tbody tr th:only-of-type {\n",
              "        vertical-align: middle;\n",
              "    }\n",
              "\n",
              "    .dataframe tbody tr th {\n",
              "        vertical-align: top;\n",
              "    }\n",
              "\n",
              "    .dataframe thead th {\n",
              "        text-align: right;\n",
              "    }\n",
              "</style>\n",
              "<table border=\"1\" class=\"dataframe\">\n",
              "  <thead>\n",
              "    <tr style=\"text-align: right;\">\n",
              "      <th></th>\n",
              "      <th></th>\n",
              "      <th></th>\n",
              "      <th>r</th>\n",
              "    </tr>\n",
              "    <tr>\n",
              "      <th>latitude</th>\n",
              "      <th>longitude</th>\n",
              "      <th>time</th>\n",
              "      <th></th>\n",
              "    </tr>\n",
              "  </thead>\n",
              "  <tbody>\n",
              "    <tr>\n",
              "      <th rowspan=\"5\" valign=\"top\">-7.6</th>\n",
              "      <th rowspan=\"5\" valign=\"top\">-41.50</th>\n",
              "      <th>1981-01-01</th>\n",
              "      <td>72.435432</td>\n",
              "    </tr>\n",
              "    <tr>\n",
              "      <th>1981-02-01</th>\n",
              "      <td>54.483418</td>\n",
              "    </tr>\n",
              "    <tr>\n",
              "      <th>1981-03-01</th>\n",
              "      <td>71.493050</td>\n",
              "    </tr>\n",
              "    <tr>\n",
              "      <th>1981-04-01</th>\n",
              "      <td>69.638603</td>\n",
              "    </tr>\n",
              "    <tr>\n",
              "      <th>1981-05-01</th>\n",
              "      <td>55.008308</td>\n",
              "    </tr>\n",
              "    <tr>\n",
              "      <th>...</th>\n",
              "      <th>...</th>\n",
              "      <th>...</th>\n",
              "      <td>...</td>\n",
              "    </tr>\n",
              "    <tr>\n",
              "      <th rowspan=\"5\" valign=\"top\">-9.6</th>\n",
              "      <th rowspan=\"5\" valign=\"top\">-9.75</th>\n",
              "      <th>2020-08-01</th>\n",
              "      <td>72.422440</td>\n",
              "    </tr>\n",
              "    <tr>\n",
              "      <th>2020-09-01</th>\n",
              "      <td>76.667488</td>\n",
              "    </tr>\n",
              "    <tr>\n",
              "      <th>2020-10-01</th>\n",
              "      <td>76.863235</td>\n",
              "    </tr>\n",
              "    <tr>\n",
              "      <th>2020-11-01</th>\n",
              "      <td>77.601204</td>\n",
              "    </tr>\n",
              "    <tr>\n",
              "      <th>2020-12-01</th>\n",
              "      <td>78.064598</td>\n",
              "    </tr>\n",
              "  </tbody>\n",
              "</table>\n",
              "<p>552960 rows × 1 columns</p>\n",
              "</div>"
            ],
            "text/plain": [
              "                                       r\n",
              "latitude longitude time                 \n",
              "-7.6     -41.50    1981-01-01  72.435432\n",
              "                   1981-02-01  54.483418\n",
              "                   1981-03-01  71.493050\n",
              "                   1981-04-01  69.638603\n",
              "                   1981-05-01  55.008308\n",
              "...                                  ...\n",
              "-9.6     -9.75     2020-08-01  72.422440\n",
              "                   2020-09-01  76.667488\n",
              "                   2020-10-01  76.863235\n",
              "                   2020-11-01  77.601204\n",
              "                   2020-12-01  78.064598\n",
              "\n",
              "[552960 rows x 1 columns]"
            ]
          },
          "metadata": {
            "tags": []
          },
          "execution_count": 15
        }
      ]
    },
    {
      "cell_type": "code",
      "metadata": {
        "id": "qCvBIL-_A0qG"
      },
      "source": [
        "df2.to_csv('umidadeERA5.txt')"
      ],
      "execution_count": 34,
      "outputs": []
    },
    {
      "cell_type": "code",
      "metadata": {
        "colab": {
          "base_uri": "https://localhost:8080/"
        },
        "id": "6pMUa_CkzUg5",
        "outputId": "efe49618-1efc-4736-ae8e-dd00e74c3862"
      },
      "source": [
        "lats_ERA5UR = ds2.variables['latitude'][:]\n",
        "lons_ERA5UR = ds2.variables['longitude'][:]\n",
        "\n",
        "lat_idxUR = geo_idx(inmet_lat, lats_ERA5UR)\n",
        "lon_idxUR = geo_idx(inmet_lon, lons_ERA5UR)"
      ],
      "execution_count": 18,
      "outputs": [
        {
          "output_type": "stream",
          "text": [
            "/usr/local/lib/python3.7/dist-packages/ipykernel_launcher.py:10: DeprecationWarning: Behaviour of argmin/argmax with neither dim nor axis argument will change to return a dict of indices of each dimension. To get a single, flat index, please use np.argmin(da.data) or np.argmax(da.data) instead of da.argmin() or da.argmax().\n",
            "  # Remove the CWD from sys.path while we load stuff.\n",
            "/usr/local/lib/python3.7/dist-packages/ipykernel_launcher.py:10: DeprecationWarning: Behaviour of argmin/argmax with neither dim nor axis argument will change to return a dict of indices of each dimension. To get a single, flat index, please use np.argmin(da.data) or np.argmax(da.data) instead of da.argmin() or da.argmax().\n",
            "  # Remove the CWD from sys.path while we load stuff.\n"
          ],
          "name": "stderr"
        }
      ]
    },
    {
      "cell_type": "code",
      "metadata": {
        "colab": {
          "base_uri": "https://localhost:8080/"
        },
        "id": "99p0ApHyzf9k",
        "outputId": "c2869b6b-646d-425d-825b-e3644fd1183b"
      },
      "source": [
        "print(lat_idxUR.values)\n",
        "print(lon_idxUR.values)"
      ],
      "execution_count": 20,
      "outputs": [
        {
          "output_type": "stream",
          "text": [
            "7\n",
            "4\n"
          ],
          "name": "stdout"
        }
      ]
    },
    {
      "cell_type": "code",
      "metadata": {
        "colab": {
          "base_uri": "https://localhost:8080/",
          "height": 324
        },
        "id": "Ta2YeX5Lzmw0",
        "outputId": "a042e1a0-0941-432d-91d0-d6967f840323"
      },
      "source": [
        "ds2.r.isel(latitude=lat_idxUR.values, longitude=lon_idxUR.values).plot()"
      ],
      "execution_count": 24,
      "outputs": [
        {
          "output_type": "execute_result",
          "data": {
            "text/plain": [
              "[<matplotlib.lines.Line2D at 0x7f67d4110d50>]"
            ]
          },
          "metadata": {
            "tags": []
          },
          "execution_count": 24
        },
        {
          "output_type": "display_data",
          "data": {
            "image/png": "[encoded data removed]",
            "text/plain": [
              "<Figure size 432x288 with 1 Axes>"
            ]
          },
          "metadata": {
            "tags": [],
            "needs_background": "light"
          }
        }
      ]
    },
    {
      "cell_type": "code",
      "metadata": {
        "colab": {
          "base_uri": "https://localhost:8080/"
        },
        "id": "uuYgA_0Rz2qt",
        "outputId": "fcc522dd-f7ea-44bb-d205-f25c52eb9a30"
      },
      "source": [
        "!pip install rpy2"
      ],
      "execution_count": 25,
      "outputs": [
        {
          "output_type": "stream",
          "text": [
            "Requirement already satisfied: rpy2 in /usr/local/lib/python3.7/dist-packages (3.4.5)\n",
            "Requirement already satisfied: tzlocal in /usr/local/lib/python3.7/dist-packages (from rpy2) (1.5.1)\n",
            "Requirement already satisfied: jinja2 in /usr/local/lib/python3.7/dist-packages (from rpy2) (2.11.3)\n",
            "Requirement already satisfied: pytz in /usr/local/lib/python3.7/dist-packages (from rpy2) (2018.9)\n",
            "Requirement already satisfied: cffi>=1.10.0 in /usr/local/lib/python3.7/dist-packages (from rpy2) (1.14.6)\n",
            "Requirement already satisfied: MarkupSafe>=0.23 in /usr/local/lib/python3.7/dist-packages (from jinja2->rpy2) (2.0.1)\n",
            "Requirement already satisfied: pycparser in /usr/local/lib/python3.7/dist-packages (from cffi>=1.10.0->rpy2) (2.20)\n"
          ],
          "name": "stdout"
        }
      ]
    },
    {
      "cell_type": "code",
      "metadata": {
        "id": "x2EfHZpM8JDx"
      },
      "source": [
        "%load_ext rpy2.ipython"
      ],
      "execution_count": 26,
      "outputs": []
    },
    {
      "cell_type": "code",
      "metadata": {
        "colab": {
          "base_uri": "https://localhost:8080/"
        },
        "id": "RTi4TJNR8Lz1",
        "outputId": "852ceeb9-5620-4fe2-f879-7f7d2cfa9e5b"
      },
      "source": [
        "%%R\n",
        "\n",
        "install.packages('SCI')\n",
        "\n"
      ],
      "execution_count": 28,
      "outputs": [
        {
          "output_type": "stream",
          "text": [
            "2021-07-17 00:52:36,311 WARNING R[write to console]: Installing package into ‘/usr/local/lib/R/site-library’\n",
            "(as ‘lib’ is unspecified)\n",
            "\n",
            "2021-07-17 00:52:37,044 WARNING R[write to console]: trying URL 'https://cran.rstudio.com/src/contrib/SCI_1.0-2.tar.gz'\n",
            "\n",
            "2021-07-17 00:52:37,190 WARNING R[write to console]: Content type 'application/x-gzip'\n",
            "2021-07-17 00:52:37,192 WARNING R[write to console]:  length 12887 bytes (12 KB)\n",
            "\n",
            "2021-07-17 00:52:37,194 WARNING R[write to console]: =\n",
            "2021-07-17 00:52:37,197 WARNING R[write to console]: =\n",
            "2021-07-17 00:52:37,199 WARNING R[write to console]: =\n",
            "2021-07-17 00:52:37,201 WARNING R[write to console]: =\n",
            "2021-07-17 00:52:37,203 WARNING R[write to console]: =\n",
            "2021-07-17 00:52:37,204 WARNING R[write to console]: =\n",
            "2021-07-17 00:52:37,205 WARNING R[write to console]: =\n",
            "2021-07-17 00:52:37,207 WARNING R[write to console]: =\n",
            "2021-07-17 00:52:37,208 WARNING R[write to console]: =\n",
            "2021-07-17 00:52:37,210 WARNING R[write to console]: =\n",
            "2021-07-17 00:52:37,212 WARNING R[write to console]: =\n",
            "2021-07-17 00:52:37,213 WARNING R[write to console]: =\n",
            "2021-07-17 00:52:37,216 WARNING R[write to console]: =\n",
            "2021-07-17 00:52:37,217 WARNING R[write to console]: =\n",
            "2021-07-17 00:52:37,218 WARNING R[write to console]: =\n",
            "2021-07-17 00:52:37,220 WARNING R[write to console]: =\n",
            "2021-07-17 00:52:37,221 WARNING R[write to console]: =\n",
            "2021-07-17 00:52:37,222 WARNING R[write to console]: =\n",
            "2021-07-17 00:52:37,224 WARNING R[write to console]: =\n",
            "2021-07-17 00:52:37,225 WARNING R[write to console]: =\n",
            "2021-07-17 00:52:37,227 WARNING R[write to console]: =\n",
            "2021-07-17 00:52:37,228 WARNING R[write to console]: =\n",
            "2021-07-17 00:52:37,229 WARNING R[write to console]: =\n",
            "2021-07-17 00:52:37,231 WARNING R[write to console]: =\n",
            "2021-07-17 00:52:37,232 WARNING R[write to console]: =\n",
            "2021-07-17 00:52:37,234 WARNING R[write to console]: =\n",
            "2021-07-17 00:52:37,235 WARNING R[write to console]: =\n",
            "2021-07-17 00:52:37,236 WARNING R[write to console]: =\n",
            "2021-07-17 00:52:37,238 WARNING R[write to console]: =\n",
            "2021-07-17 00:52:37,239 WARNING R[write to console]: =\n",
            "2021-07-17 00:52:37,241 WARNING R[write to console]: =\n",
            "2021-07-17 00:52:37,242 WARNING R[write to console]: =\n",
            "2021-07-17 00:52:37,243 WARNING R[write to console]: =\n",
            "2021-07-17 00:52:37,245 WARNING R[write to console]: =\n",
            "2021-07-17 00:52:37,246 WARNING R[write to console]: =\n",
            "2021-07-17 00:52:37,248 WARNING R[write to console]: =\n",
            "2021-07-17 00:52:37,249 WARNING R[write to console]: =\n",
            "2021-07-17 00:52:37,250 WARNING R[write to console]: =\n",
            "2021-07-17 00:52:37,252 WARNING R[write to console]: =\n",
            "2021-07-17 00:52:37,253 WARNING R[write to console]: =\n",
            "2021-07-17 00:52:37,255 WARNING R[write to console]: =\n",
            "2021-07-17 00:52:37,256 WARNING R[write to console]: =\n",
            "2021-07-17 00:52:37,258 WARNING R[write to console]: =\n",
            "2021-07-17 00:52:37,259 WARNING R[write to console]: =\n",
            "2021-07-17 00:52:37,261 WARNING R[write to console]: =\n",
            "2021-07-17 00:52:37,263 WARNING R[write to console]: =\n",
            "2021-07-17 00:52:37,265 WARNING R[write to console]: =\n",
            "2021-07-17 00:52:37,266 WARNING R[write to console]: =\n",
            "2021-07-17 00:52:37,268 WARNING R[write to console]: =\n",
            "2021-07-17 00:52:37,269 WARNING R[write to console]: =\n",
            "2021-07-17 00:52:37,270 WARNING R[write to console]: \n",
            "\n",
            "2021-07-17 00:52:37,272 WARNING R[write to console]: downloaded 12 KB\n",
            "\n",
            "\n",
            "2021-07-17 00:52:42,417 WARNING R[write to console]: \n",
            "\n",
            "2021-07-17 00:52:42,419 WARNING R[write to console]: \n",
            "2021-07-17 00:52:42,421 WARNING R[write to console]: The downloaded source packages are in\n",
            "\t‘/tmp/RtmpPs44rx/downloaded_packages’\n",
            "2021-07-17 00:52:42,428 WARNING R[write to console]: \n",
            "2021-07-17 00:52:42,431 WARNING R[write to console]: \n",
            "\n"
          ],
          "name": "stderr"
        }
      ]
    },
    {
      "cell_type": "code",
      "metadata": {
        "colab": {
          "base_uri": "https://localhost:8080/"
        },
        "id": "hlNFZwrQ82si",
        "outputId": "f6f2e3d6-2d3e-493c-b06c-c9a360d5947d"
      },
      "source": [
        "%%R\n",
        "library(\"SCI\")"
      ],
      "execution_count": 32,
      "outputs": [
        {
          "output_type": "stream",
          "text": [
            "2021-07-17 00:53:37,318 WARNING R[write to console]: Loading required package: fitdistrplus\n",
            "\n",
            "2021-07-17 00:53:37,325 WARNING R[write to console]: Loading required package: MASS\n",
            "\n",
            "2021-07-17 00:53:37,345 WARNING R[write to console]: Loading required package: survival\n",
            "\n",
            "2021-07-17 00:53:38,342 WARNING R[write to console]: Loading required package: lmomco\n",
            "\n",
            "2021-07-17 00:53:38,425 WARNING R[write to console]: # Package lmomco (2.3.6) loaded [try lmomcoNews()].\n",
            "\n"
          ],
          "name": "stderr"
        }
      ]
    },
    {
      "cell_type": "code",
      "metadata": {
        "id": "Z3dMoKax8WTO"
      },
      "source": [
        "%%R\n",
        "# Cálculo de SPI\n",
        "PRECIP <- read.table(\"umidadeERA5.txt\")"
      ],
      "execution_count": 35,
      "outputs": []
    },
    {
      "cell_type": "code",
      "metadata": {
        "id": "efREE7CoBM_5"
      },
      "source": [
        "%%R\n",
        "spi.para <- fitSCI(PRECIP[,1],first.mon=1,time.scale=6,distr=\"gamma\",p0=TRUE)\n",
        "spi <- transformSCI(PRECIP[,1],first.mon=1,obj=spi.para)\n",
        "plot(spi,t=\"l\")\n",
        "write.csv(spi, file = \"SPI.csv\")"
      ],
      "execution_count": null,
      "outputs": []
    },
    {
      "cell_type": "code",
      "metadata": {
        "id": "lF7Dw3oXBtBP"
      },
      "source": [
        ""
      ],
      "execution_count": null,
      "outputs": []
    }
  ]
}